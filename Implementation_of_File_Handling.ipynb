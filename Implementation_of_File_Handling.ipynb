{
  "nbformat": 4,
  "nbformat_minor": 0,
  "metadata": {
    "colab": {
      "name": "Implementation of File Handling.ipynb",
      "provenance": [],
      "collapsed_sections": [],
      "authorship_tag": "ABX9TyPeaE75Wh8ALscHbs7pMw5J",
      "include_colab_link": true
    },
    "kernelspec": {
      "name": "python3",
      "display_name": "Python 3"
    },
    "language_info": {
      "name": "python"
    }
  },
  "cells": [
    {
      "cell_type": "markdown",
      "metadata": {
        "id": "view-in-github",
        "colab_type": "text"
      },
      "source": [
        "<a href=\"https://colab.research.google.com/github/manasohara1/Python-/blob/main/Implementation_of_File_Handling.ipynb\" target=\"_parent\"><img src=\"https://colab.research.google.com/assets/colab-badge.svg\" alt=\"Open In Colab\"/></a>"
      ]
    },
    {
      "cell_type": "code",
      "execution_count": 1,
      "metadata": {
        "colab": {
          "base_uri": "https://localhost:8080/"
        },
        "id": "BNOsvn4B2w98",
        "outputId": "3404dcc2-04e9-44d4-fe4d-22ab1ec38706"
      },
      "outputs": [
        {
          "output_type": "stream",
          "name": "stdout",
          "text": [
            "Mounted at /content/drive\n"
          ]
        }
      ],
      "source": [
        "from google.colab import drive\n",
        "drive.mount('/content/drive')"
      ]
    },
    {
      "cell_type": "markdown",
      "source": [
        "1. Write a function in python to read the content from a text file line by line and\n",
        "display the same on screen."
      ],
      "metadata": {
        "id": "OIOGkneK3CsH"
      }
    },
    {
      "cell_type": "code",
      "source": [
        "f=open('/content/drive/MyDrive/Colab Notebooks/Files/f1.txt','r')\n",
        "l=f.readlines()\n",
        "for i in l:\n",
        "  print(i)"
      ],
      "metadata": {
        "colab": {
          "base_uri": "https://localhost:8080/"
        },
        "id": "jJj95PHl3BUV",
        "outputId": "7defecde-9d3b-4211-d01e-83efa3e2ff8c"
      },
      "execution_count": 6,
      "outputs": [
        {
          "output_type": "stream",
          "name": "stdout",
          "text": [
            "Name : Manas Ohara\n",
            "\n",
            "FYMSc(CS)\n",
            "\n",
            "Pune\n",
            "\n"
          ]
        }
      ]
    },
    {
      "cell_type": "markdown",
      "source": [
        "2. Write a function in python to count the number of lines from a text file which\n",
        "is not starting with an alphabet &quot;T&quot;."
      ],
      "metadata": {
        "id": "6tsGB8Qn5xIH"
      }
    },
    {
      "cell_type": "code",
      "source": [
        "def line_count():\n",
        "    file = open('/content/drive/MyDrive/Colab Notebooks/Files/f2.txt','r')\n",
        "    count=0\n",
        "    for line in file:\n",
        "        if line[0] not in 'T':\n",
        "            count+= 1\n",
        "    file.close()\n",
        "    return str(count)\n",
        "\n",
        "print(\"the number of lines from a text file which is not starting with an alphabet T are : \",line_count())"
      ],
      "metadata": {
        "colab": {
          "base_uri": "https://localhost:8080/"
        },
        "id": "z2CfXOtC4GTr",
        "outputId": "0cf764fc-4037-42de-9f06-1ff0c6c0afa2"
      },
      "execution_count": 29,
      "outputs": [
        {
          "output_type": "stream",
          "name": "stdout",
          "text": [
            "the number of lines from a text file which is not starting with an alphabet T are :  8\n"
          ]
        }
      ]
    },
    {
      "cell_type": "markdown",
      "source": [
        "3. Write a function in Python to count and display the total number of words in\n",
        "a text file."
      ],
      "metadata": {
        "id": "iAh-p5rx6G1T"
      }
    },
    {
      "cell_type": "code",
      "source": [
        "def count_words():\n",
        "    file = open('/content/drive/MyDrive/Colab Notebooks/Files/f2.txt','r')\n",
        "    count = 0\n",
        "    data = file.read()\n",
        "    words = data.split()\n",
        "    for word in words:\n",
        "        count += 1\n",
        "    print(\"Total words are\",count)\n",
        "    file.close()\n",
        "    return count\n",
        "\n",
        "print(\" the total number of words in a text file: \",count_words())"
      ],
      "metadata": {
        "colab": {
          "base_uri": "https://localhost:8080/"
        },
        "id": "TLaQk3e55V-r",
        "outputId": "bbee14c7-98be-48e8-f0bc-d73db53e1c1b"
      },
      "execution_count": 30,
      "outputs": [
        {
          "output_type": "stream",
          "name": "stdout",
          "text": [
            "Total words are 251\n",
            " the total number of words in a text file:  251\n"
          ]
        }
      ]
    },
    {
      "cell_type": "markdown",
      "source": [
        "4. Write a function in Python to read lines from a text file. Your function should\n",
        "find and display the occurrence of the word &quot;the&quot;."
      ],
      "metadata": {
        "id": "RrWUTQ-X6dOt"
      }
    },
    {
      "cell_type": "code",
      "source": [
        "def count_words():\n",
        "    file = open('/content/drive/MyDrive/Colab Notebooks/Files/f2.txt','r')\n",
        "    count = 0\n",
        "    data = file.read()\n",
        "    words = data.split()\n",
        "    for word in words:\n",
        "        if word ==\"the\" or word ==\"The\":\n",
        "            count += 1\n",
        "    print(count)\n",
        "    file.close()\n",
        "    return count\n",
        "print(\"the occurrence of the word the: \",count_words())"
      ],
      "metadata": {
        "colab": {
          "base_uri": "https://localhost:8080/"
        },
        "id": "lKUDOkN66WLg",
        "outputId": "ff077119-6a4e-4bb3-888d-b69079a1a4f3"
      },
      "execution_count": 32,
      "outputs": [
        {
          "output_type": "stream",
          "name": "stdout",
          "text": [
            "6\n",
            "the occurrence of the word the:  6\n"
          ]
        }
      ]
    },
    {
      "cell_type": "markdown",
      "source": [
        "5. Write a function in python to read lines from a text file and display those\n",
        "words, which are less than 4 characters."
      ],
      "metadata": {
        "id": "XYW-L0xQ7Eka"
      }
    },
    {
      "cell_type": "code",
      "source": [
        "def display_words():\n",
        "    file = open('/content/drive/MyDrive/Colab Notebooks/Files/f2.txt','r')\n",
        "    data = file.read()\n",
        "    words = data.split()\n",
        "    for word in words:\n",
        "        if len(word) < 4:\n",
        "            print(word, end=\"\\t\")\n",
        "    file.close()\n",
        "print(\"those words, which are less than 4 characters are :\")\n",
        "display_words()"
      ],
      "metadata": {
        "colab": {
          "base_uri": "https://localhost:8080/"
        },
        "id": "Xe2CoUN_6Z1j",
        "outputId": "bff8f509-0a10-4c7a-ecfd-d527f49e7558"
      },
      "execution_count": 33,
      "outputs": [
        {
          "output_type": "stream",
          "name": "stdout",
          "text": [
            "those words, which are less than 4 characters are :\n",
            "I\tget\tI\tto\tbe\ta\tIt\thas\tto\tbe\tthe\tjob\tin\tthe\tThe\tis\tI\tto\tare\tso\tto\tand\tI\tlet\tSo\tfar\tmy\tof\tI\tto\tand\tand\tand\tin\ta\tour\t-\tme\tto\tI\tand\tand\tme\tto\tMy\tmom\tme\tif\tI\tto\tto\tthe\ta\tfew\t\"Of\tI\tdo.\tI\tto\tso\tI\tcan\tI\tI\tmy\thow\tis\tall\tthe\tme,\tbut\tI\tget\tall\tof\tthe\tI\tto\tme\tI\ta\tif\tI\tit\tso\tMy\tis\tto\tin\tsix\tI\tam\tto\tnow\tby\tas\tas\tI\tI\ta\tI\tdo\ta\tlot\tof\tdo\thas\tme\tso\tI\tcan\t"
          ]
        }
      ]
    },
    {
      "cell_type": "markdown",
      "source": [
        "6. Write a function in Python to count the words &quot;this&quot; and &quot;these&quot; present in a\n",
        "text file."
      ],
      "metadata": {
        "id": "jmRTBu327kvZ"
      }
    },
    {
      "cell_type": "code",
      "source": [
        "def count_words():\n",
        "    file = open('/content/drive/MyDrive/Colab Notebooks/Files/f2.txt','r')\n",
        "    count = 0\n",
        "    data = file.read()\n",
        "    words = data.split()\n",
        "    for word in words:\n",
        "        if word == 'this' or word =='these':\n",
        "            count+=1\n",
        "    print(count)\n",
        "    file.close()\n",
        "    return count\n",
        "print(\"Count of this & these in file is : \",count_words())"
      ],
      "metadata": {
        "colab": {
          "base_uri": "https://localhost:8080/"
        },
        "id": "D0C9p5jh7PWg",
        "outputId": "db53e18d-e4e3-4b17-ab25-59082c75ae4b"
      },
      "execution_count": 34,
      "outputs": [
        {
          "output_type": "stream",
          "name": "stdout",
          "text": [
            "2\n",
            "Count of this & these in file is :  2\n"
          ]
        }
      ]
    },
    {
      "cell_type": "markdown",
      "source": [
        "7. Write a function in Python to count words in a text file those are ending with\n",
        "alphabet &quot;e&quot;."
      ],
      "metadata": {
        "id": "PkwJ6jHw7xaI"
      }
    },
    {
      "cell_type": "code",
      "source": [
        "def count_words():\n",
        "    file = open('/content/drive/MyDrive/Colab Notebooks/Files/f2.txt','r')\n",
        "    count = 0\n",
        "    data = file.read()\n",
        "    words = data.split()\n",
        "    for word in words:\n",
        "        if word[-1] == 'e':\n",
        "            count+=1\n",
        "            print(word,count)\n",
        "    #print(count)\n",
        "    file.close()\n",
        "    return count\n",
        "print(\"Counts of those words which are ending with aplhabet e in file is: \",count_words())"
      ],
      "metadata": {
        "colab": {
          "base_uri": "https://localhost:8080/"
        },
        "id": "upEw3Agv7tv1",
        "outputId": "962ff793-10d9-4d0a-be68-4fd0717c515c"
      },
      "execution_count": 37,
      "outputs": [
        {
          "output_type": "stream",
          "name": "stdout",
          "text": [
            "be 1\n",
            "be 2\n",
            "the 3\n",
            "the 4\n",
            "The 5\n",
            "trouble 6\n",
            "There 7\n",
            "are 8\n",
            "made 9\n",
            "me 10\n",
            "have 11\n",
            "me 12\n",
            "me 13\n",
            "like 14\n",
            "the 15\n",
            "course 16\n",
            "the 17\n",
            "the 18\n",
            "me 19\n",
            "become 20\n",
            "love 21\n",
            "prepare 22\n",
            "people 23\n",
            "me 24\n",
            "Counts of those words which are ending with aplhabet e in file is:  24\n"
          ]
        }
      ]
    },
    {
      "cell_type": "markdown",
      "source": [
        "8. Write a function in Python to count uppercase character in a text file."
      ],
      "metadata": {
        "id": "RqPDwLys8T2z"
      }
    },
    {
      "cell_type": "code",
      "source": [
        "def count_upper():\n",
        "    file = open('/content/drive/MyDrive/Colab Notebooks/Files/f2.txt','r')\n",
        "    count = 0\n",
        "    data = file.read()\n",
        "    words = data.split()\n",
        "    for word in words:\n",
        "        if word.isupper():\n",
        "            count+=1\n",
        "            #print(word,count)\n",
        "    #print(count)\n",
        "    file.close()\n",
        "    return count\n",
        "print(\"count uppercase character in a text file: \",count_upper())"
      ],
      "metadata": {
        "colab": {
          "base_uri": "https://localhost:8080/"
        },
        "id": "Oeshx5sN73yO",
        "outputId": "87ada1e1-7736-48cc-8fe5-71752bce40b0"
      },
      "execution_count": 39,
      "outputs": [
        {
          "output_type": "stream",
          "name": "stdout",
          "text": [
            "count uppercase character in a text file:  21\n"
          ]
        }
      ]
    },
    {
      "cell_type": "code",
      "source": [
        ""
      ],
      "metadata": {
        "id": "G-kHeRy28eb1"
      },
      "execution_count": null,
      "outputs": []
    }
  ]
}