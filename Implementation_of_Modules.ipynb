{
  "nbformat": 4,
  "nbformat_minor": 0,
  "metadata": {
    "colab": {
      "name": "Implementation of Modules.ipynb",
      "provenance": [],
      "collapsed_sections": [],
      "authorship_tag": "ABX9TyM8I1luZ8CvbdlDjBAay4oe",
      "include_colab_link": true
    },
    "kernelspec": {
      "name": "python3",
      "display_name": "Python 3"
    },
    "language_info": {
      "name": "python"
    }
  },
  "cells": [
    {
      "cell_type": "markdown",
      "metadata": {
        "id": "view-in-github",
        "colab_type": "text"
      },
      "source": [
        "<a href=\"https://colab.research.google.com/github/manasohara1/Python-/blob/main/Implementation_of_Modules.ipynb\" target=\"_parent\"><img src=\"https://colab.research.google.com/assets/colab-badge.svg\" alt=\"Open In Colab\"/></a>"
      ]
    },
    {
      "cell_type": "markdown",
      "source": [
        "III.\n",
        "1. Write a program which prints all permutations of [1,2,3,4,5,6,7,8,9].Use itertools module"
      ],
      "metadata": {
        "id": "faRgHPfH1-AO"
      }
    },
    {
      "cell_type": "code",
      "execution_count": null,
      "metadata": {
        "colab": {
          "base_uri": "https://localhost:8080/"
        },
        "id": "BSzyFi4I10Vd",
        "outputId": "de6f55a0-a622-41f8-fb95-53e456f17bc5"
      },
      "outputs": [
        {
          "output_type": "stream",
          "name": "stdout",
          "text": [
            "[1, 2, 3, 4, 5, 6, 7, 8, 9]\n",
            "<itertools.permutations object at 0x7fdd1b7ecdd0>\n"
          ]
        }
      ],
      "source": [
        "import itertools as it\n",
        "a=[i for i in range(1,10)]\n",
        "print(a)\n",
        "b=it.permutations(range(9))\n",
        "print(str(b))"
      ]
    },
    {
      "cell_type": "markdown",
      "source": [
        "2. Write a program to shuffle and print the list of 10 numbers. Use random\n",
        "module"
      ],
      "metadata": {
        "id": "8E5-Bjr02yxZ"
      }
    },
    {
      "cell_type": "code",
      "source": [
        "import random\n",
        "a=[i for i in range(1,10)]\n",
        "print(\"Before Shuffle : \"+str(a))\n",
        "#dir(random)\n",
        "random.shuffle(a)\n",
        "print(\"After Shuffle : \"+str(a))"
      ],
      "metadata": {
        "colab": {
          "base_uri": "https://localhost:8080/"
        },
        "id": "KzXBbR7M174f",
        "outputId": "da2a11a3-5c63-40ad-84aa-db74eae0b31b"
      },
      "execution_count": null,
      "outputs": [
        {
          "output_type": "stream",
          "name": "stdout",
          "text": [
            "Before Shuffle : [1, 2, 3, 4, 5, 6, 7, 8, 9]\n",
            "After Shuffle : [8, 6, 7, 5, 2, 4, 1, 3, 9]\n"
          ]
        }
      ]
    },
    {
      "cell_type": "markdown",
      "source": [
        "3. Write a program to print the running time of execution of “1+1” for 100\n",
        "times. Use timeit"
      ],
      "metadata": {
        "id": "3mGT25Qy4kvb"
      }
    },
    {
      "cell_type": "code",
      "source": [
        "import timeit\n",
        "print(\"Running time of execution for 1+1 is : \"+str(timeit.timeit('1+1',number=1000)))"
      ],
      "metadata": {
        "colab": {
          "base_uri": "https://localhost:8080/"
        },
        "id": "KEKNpfoh3B-Q",
        "outputId": "2ba54c3c-4bb4-4c32-9345-d54ab6c5a7f5"
      },
      "execution_count": null,
      "outputs": [
        {
          "output_type": "stream",
          "name": "stdout",
          "text": [
            "Running time of execution for 1+1 is : 3.0425999966610107e-05\n"
          ]
        }
      ]
    },
    {
      "cell_type": "markdown",
      "source": [
        "4. Write a program to compress and decompress a user inputted string. Use\n",
        "zlib"
      ],
      "metadata": {
        "id": "BARkQUu05vJp"
      }
    },
    {
      "cell_type": "code",
      "source": [
        "# import zlib and compress\n",
        "import zlib\n",
        "s = b'This is Manas, and first year student.'\n",
        "print(len(s))\n",
        "  \n",
        "# using zlib.compress(s) method\n",
        "compressed_string= zlib.compress(s)\n",
        "#print(len(compressed_string))\n",
        "print(\"Original String \"+str(s))\n",
        "print(\"Compressed String : \"+str(compressed_string))\n",
        "decompressed_string=zlib.decompress(compressed_string)\n",
        "print(\"Decompressed String : \"+str(decompressed_string))"
      ],
      "metadata": {
        "colab": {
          "base_uri": "https://localhost:8080/"
        },
        "id": "bbkgtfVX5P-i",
        "outputId": "10845c28-9583-4f65-f692-8c7fe0792bd3"
      },
      "execution_count": null,
      "outputs": [
        {
          "output_type": "stream",
          "name": "stdout",
          "text": [
            "38\n",
            "Original String b'This is Manas, and first year student.'\n",
            "Compressed String : b'x\\x9c\\x0b\\xc9\\xc8,V\\x00\"\\xdf\\xc4\\xbc\\xc4b\\x1d\\x85\\xc4\\xbc\\x14\\x85\\xb4\\xcc\\xa2\\xe2\\x12\\x85\\xca\\xd4\\xc4\"\\x85\\xe2\\x92\\xd2\\x94\\xd4\\xbc\\x12=\\x00\\x02\\xa6\\r\\x92'\n",
            "Decompressed String : b'This is Manas, and first year student.'\n"
          ]
        }
      ]
    },
    {
      "cell_type": "markdown",
      "source": [
        "5. A website requires the users to input username and password to register.\n",
        "Write a program to check the validity of password input by users.\n",
        "Following are the criteria for checking the password:\n",
        "  1. At least 1 letter between [a-z]\n",
        "  2. At least 1 number between [0-9]\n",
        "  3. At least 1 letter between [A-Z]\n",
        "  4. At least 1 character from [$#@]\n",
        "  5. Minimum length of transaction password: 6\n",
        "  6. Maximum length of transaction password: 12\n",
        "Your program should accept a sequence of comma separated passwords\n",
        "and must check them according to the above criteria. Passwords that\n",
        "match the criteria are to be printed, each separated by a comma. Use “re”"
      ],
      "metadata": {
        "id": "qFT8X8Br8a8X"
      }
    },
    {
      "cell_type": "code",
      "source": [
        "import re\n",
        "password=input(\"Enter password to check is it valid or not :\")\n",
        "pattern=\"^(?=.*[a-z])(?=.*[A-Z])(?=.*\\d)(?=.*[@$!%*?&])[A-Za-z\\d@$!%*?&]{6,12}$\"\n",
        "if(re.findall(pattern,password)):\n",
        "  print(\"Passowrd Ok!!!\")\n",
        "else:\n",
        "  print(\"Try again :-( \")"
      ],
      "metadata": {
        "colab": {
          "base_uri": "https://localhost:8080/"
        },
        "id": "N6d_gTMm6Rrv",
        "outputId": "eb3c4644-ce02-4d80-f231-792ad4fb42b5"
      },
      "execution_count": null,
      "outputs": [
        {
          "output_type": "stream",
          "name": "stdout",
          "text": [
            "Enter password to check is it valid or not :Pass@1234\n",
            "Passowrd Ok!!!\n"
          ]
        }
      ]
    },
    {
      "cell_type": "markdown",
      "source": [
        "6. A robot moves in a plane starting from the original point (0,0). The robot can\n",
        "move toward UP, DOWN, LEFT and RIGHT with a given steps. The trace of\n",
        "robot movement is shown as the following:\n",
        "UP 5\n",
        "DOWN 3\n",
        "LEFT 3\n",
        "RIGHT 2\n",
        "The numbers after the direction are steps. Write a program to compute the\n",
        "distance from the current position after a sequence of movement and original\n",
        "point. If the distance is a float then just print the nearest integer. Use “math”"
      ],
      "metadata": {
        "id": "OZLys4b3ISJn"
      }
    },
    {
      "cell_type": "code",
      "source": [
        "import math\n",
        "\n",
        "x, y = 0, 0\n",
        "c=0\n",
        "while True:\n",
        "    step = input(\"Type in UP/DOWN/LEFT/RIGHT #step number: \")\n",
        "\n",
        "    if step == \"\":\n",
        "        break\n",
        "\n",
        "    else:\n",
        "        step = step.split(\" \")\n",
        "\n",
        "        if step[0] == \"UP\":\n",
        "            y = y + int(step[1])\n",
        "        elif step[0] == \"DOWN\":\n",
        "            y = y - int(step[1])\n",
        "        elif step[0] == \"LEFT\":\n",
        "            x = x - int(step[1])\n",
        "        elif step[0] == \"RIGHT\":\n",
        "            x = x + int(step[1])\n",
        "\n",
        "        c = math.sqrt(x**2 + y**2)\n",
        "\n",
        "print(\"Distance:\", c)"
      ],
      "metadata": {
        "colab": {
          "base_uri": "https://localhost:8080/"
        },
        "id": "FgM-nA-X-T7i",
        "outputId": "57c66d03-7e54-4077-c76d-a89f2b692e5f"
      },
      "execution_count": null,
      "outputs": [
        {
          "output_type": "stream",
          "name": "stdout",
          "text": [
            "Type in UP/DOWN/LEFT/RIGHT #step number: 1\n",
            "Type in UP/DOWN/LEFT/RIGHT #step number: 2\n",
            "Type in UP/DOWN/LEFT/RIGHT #step number: 3\n",
            "Type in UP/DOWN/LEFT/RIGHT #step number: 4\n",
            "Type in UP/DOWN/LEFT/RIGHT #step number: 3\n",
            "Type in UP/DOWN/LEFT/RIGHT #step number: 2\n",
            "Type in UP/DOWN/LEFT/RIGHT #step number: \n",
            "Distance: 0.0\n"
          ]
        }
      ]
    },
    {
      "cell_type": "markdown",
      "source": [
        "7. Write a program to list all files in the given directory. Use os or os.path"
      ],
      "metadata": {
        "id": "1u4AIcecIZmC"
      }
    },
    {
      "cell_type": "code",
      "source": [
        "import os \n",
        "\n",
        "path=\"/content\"\n",
        "files_list=os.listdir(path)\n",
        "print(\"List of files: \")\n",
        "print(files_list)"
      ],
      "metadata": {
        "colab": {
          "base_uri": "https://localhost:8080/"
        },
        "id": "Trf_Rj-K_1tR",
        "outputId": "211a4459-95a2-4a8b-ac2a-d2b7eb26ecde"
      },
      "execution_count": 3,
      "outputs": [
        {
          "output_type": "stream",
          "name": "stdout",
          "text": [
            "List of files: \n",
            "['.config', 'sample_data']\n"
          ]
        }
      ]
    },
    {
      "cell_type": "markdown",
      "source": [
        "8. Write a program to count number of files for each extension in the given directory. The program should take a directory name as argument and print count and extension for each available file extension. Use os or os.path"
      ],
      "metadata": {
        "id": "-6hAQaa7RvVi"
      }
    },
    {
      "cell_type": "code",
      "source": [
        "import os\n",
        "extension=input(\"Enter extension\")\n",
        "cnt=0\n",
        "for file in os.listdir(\"/content\"):\n",
        "    if file.endswith(extension):\n",
        "        cnt+=1\n",
        "print(cnt)"
      ],
      "metadata": {
        "id": "GAiXAmLTInU7",
        "colab": {
          "base_uri": "https://localhost:8080/"
        },
        "outputId": "f5476488-3fa1-407e-b658-ec2007c97200"
      },
      "execution_count": 4,
      "outputs": [
        {
          "output_type": "stream",
          "name": "stdout",
          "text": [
            "Enter extension.py\n",
            "0\n"
          ]
        }
      ]
    },
    {
      "cell_type": "markdown",
      "source": [
        "9. Write a program to list all the files in the given directory along with their length and last modification time. The output should contain one line for each file containing filename, length and modification date separated by tabs. Use os.stat"
      ],
      "metadata": {
        "id": "VPsokFTGR4jH"
      }
    },
    {
      "cell_type": "code",
      "source": [
        "import os,time\n",
        "\n",
        "def get_information(directory):\n",
        "    file_list = []\n",
        "    for i in os.listdir(directory):\n",
        "        a = os.stat(os.path.join(directory,i))\n",
        "        file_list.append([i,time.ctime(a.st_atime),time.ctime(a.st_ctime)]) #[file,most_recent_access,created]\n",
        "    return file_list\n",
        "\n",
        "print(get_information(\"/content\"))\n"
      ],
      "metadata": {
        "colab": {
          "base_uri": "https://localhost:8080/"
        },
        "id": "xyfYuepn-I0G",
        "outputId": "b13ecdfd-79f3-4821-d4ba-da488e46703d"
      },
      "execution_count": 5,
      "outputs": [
        {
          "output_type": "stream",
          "name": "stdout",
          "text": [
            "[['.config', 'Tue Dec 21 15:10:28 2021', 'Tue Dec 21 15:10:28 2021'], ['sample_data', 'Tue Dec 21 15:11:06 2021', 'Tue Dec 21 15:11:06 2021']]\n"
          ]
        }
      ]
    },
    {
      "cell_type": "markdown",
      "source": [
        "10. Write a program to download a given URL. The program should accept a URL as argument, download it and save it with the basename of the URL. If the URL ends with a /, consider the basename as index.html. Use urllib"
      ],
      "metadata": {
        "id": "AKfZ6_6_SPbV"
      }
    },
    {
      "cell_type": "code",
      "source": [
        "import os\n",
        "import urllib\n",
        "import sys\n",
        "def wget(x):\n",
        "    r=urllib.urlopen(x)\n",
        "    cont=r.read()\n",
        "    name=x.split('/')\n",
        "    n=name[-1]\n",
        "    if n=='':\n",
        "        n='index.html'\n",
        "    f=open(n,'w')\n",
        "    f.write(cont)\n",
        "wget(sys.argv[1])"
      ],
      "metadata": {
        "id": "KKSZLW7s_xDd",
        "colab": {
          "base_uri": "https://localhost:8080/",
          "height": 337
        },
        "outputId": "66767ca1-d15e-4136-cfb0-cc1fa056ef56"
      },
      "execution_count": 6,
      "outputs": [
        {
          "output_type": "error",
          "ename": "AttributeError",
          "evalue": "ignored",
          "traceback": [
            "\u001b[0;31m---------------------------------------------------------------------------\u001b[0m",
            "\u001b[0;31mAttributeError\u001b[0m                            Traceback (most recent call last)",
            "\u001b[0;32m<ipython-input-6-8561b27880b4>\u001b[0m in \u001b[0;36m<module>\u001b[0;34m()\u001b[0m\n\u001b[1;32m     11\u001b[0m     \u001b[0mf\u001b[0m\u001b[0;34m=\u001b[0m\u001b[0mopen\u001b[0m\u001b[0;34m(\u001b[0m\u001b[0mn\u001b[0m\u001b[0;34m,\u001b[0m\u001b[0;34m'w'\u001b[0m\u001b[0;34m)\u001b[0m\u001b[0;34m\u001b[0m\u001b[0;34m\u001b[0m\u001b[0m\n\u001b[1;32m     12\u001b[0m     \u001b[0mf\u001b[0m\u001b[0;34m.\u001b[0m\u001b[0mwrite\u001b[0m\u001b[0;34m(\u001b[0m\u001b[0mcont\u001b[0m\u001b[0;34m)\u001b[0m\u001b[0;34m\u001b[0m\u001b[0;34m\u001b[0m\u001b[0m\n\u001b[0;32m---> 13\u001b[0;31m \u001b[0mwget\u001b[0m\u001b[0;34m(\u001b[0m\u001b[0msys\u001b[0m\u001b[0;34m.\u001b[0m\u001b[0margv\u001b[0m\u001b[0;34m[\u001b[0m\u001b[0;36m1\u001b[0m\u001b[0;34m]\u001b[0m\u001b[0;34m)\u001b[0m\u001b[0;34m\u001b[0m\u001b[0;34m\u001b[0m\u001b[0m\n\u001b[0m",
            "\u001b[0;32m<ipython-input-6-8561b27880b4>\u001b[0m in \u001b[0;36mwget\u001b[0;34m(x)\u001b[0m\n\u001b[1;32m      3\u001b[0m \u001b[0;32mimport\u001b[0m \u001b[0msys\u001b[0m\u001b[0;34m\u001b[0m\u001b[0;34m\u001b[0m\u001b[0m\n\u001b[1;32m      4\u001b[0m \u001b[0;32mdef\u001b[0m \u001b[0mwget\u001b[0m\u001b[0;34m(\u001b[0m\u001b[0mx\u001b[0m\u001b[0;34m)\u001b[0m\u001b[0;34m:\u001b[0m\u001b[0;34m\u001b[0m\u001b[0;34m\u001b[0m\u001b[0m\n\u001b[0;32m----> 5\u001b[0;31m     \u001b[0mr\u001b[0m\u001b[0;34m=\u001b[0m\u001b[0murllib\u001b[0m\u001b[0;34m.\u001b[0m\u001b[0murlopen\u001b[0m\u001b[0;34m(\u001b[0m\u001b[0mx\u001b[0m\u001b[0;34m)\u001b[0m\u001b[0;34m\u001b[0m\u001b[0;34m\u001b[0m\u001b[0m\n\u001b[0m\u001b[1;32m      6\u001b[0m     \u001b[0mcont\u001b[0m\u001b[0;34m=\u001b[0m\u001b[0mr\u001b[0m\u001b[0;34m.\u001b[0m\u001b[0mread\u001b[0m\u001b[0;34m(\u001b[0m\u001b[0;34m)\u001b[0m\u001b[0;34m\u001b[0m\u001b[0;34m\u001b[0m\u001b[0m\n\u001b[1;32m      7\u001b[0m     \u001b[0mname\u001b[0m\u001b[0;34m=\u001b[0m\u001b[0mx\u001b[0m\u001b[0;34m.\u001b[0m\u001b[0msplit\u001b[0m\u001b[0;34m(\u001b[0m\u001b[0;34m'/'\u001b[0m\u001b[0;34m)\u001b[0m\u001b[0;34m\u001b[0m\u001b[0;34m\u001b[0m\u001b[0m\n",
            "\u001b[0;31mAttributeError\u001b[0m: module 'urllib' has no attribute 'urlopen'"
          ]
        }
      ]
    },
    {
      "cell_type": "code",
      "source": [
        ""
      ],
      "metadata": {
        "id": "auM_qA-zSUcs"
      },
      "execution_count": null,
      "outputs": []
    }
  ]
}