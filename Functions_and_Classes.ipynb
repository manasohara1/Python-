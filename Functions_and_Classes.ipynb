{
  "nbformat": 4,
  "nbformat_minor": 0,
  "metadata": {
    "colab": {
      "name": "Functions and Classes.ipynb",
      "provenance": [],
      "collapsed_sections": [],
      "authorship_tag": "ABX9TyO/OiTaUQe+RWqIfifwZkQT",
      "include_colab_link": true
    },
    "kernelspec": {
      "name": "python3",
      "display_name": "Python 3"
    },
    "language_info": {
      "name": "python"
    }
  },
  "cells": [
    {
      "cell_type": "markdown",
      "metadata": {
        "id": "view-in-github",
        "colab_type": "text"
      },
      "source": [
        "<a href=\"https://colab.research.google.com/github/manasohara1/Python-/blob/main/Functions_and_Classes.ipynb\" target=\"_parent\"><img src=\"https://colab.research.google.com/assets/colab-badge.svg\" alt=\"Open In Colab\"/></a>"
      ]
    },
    {
      "cell_type": "markdown",
      "source": [
        "1. ROT13 is a weak form of encryption that involves “rotating” each letter in a word by\n",
        "13 places. To rotate a letter means to shift it through the alphabet, wrapping around to\n",
        "the beginning if necessary, so ’A’ shifted by 3 is ’D’ and ’Z’ shifted by 1 is ’A’. Write\n",
        "a function called rotate_word that takes a string and an integer as parameters, and that\n",
        "returns a new string that contains the letters from the original string “rotated” by the\n",
        "given amount. For example, “cheer” rotated by 7 is “jolly” and “melon” rotated by -\n",
        "10 is “cubed”. You might want to use the built-in functions ord, which converts a\n",
        "character to a numeric code, and chr, which converts numeric codes to characters"
      ],
      "metadata": {
        "id": "2tPtuD2JzOby"
      }
    },
    {
      "cell_type": "code",
      "execution_count": 36,
      "metadata": {
        "colab": {
          "base_uri": "https://localhost:8080/"
        },
        "id": "JQpsiiVlwSpU",
        "outputId": "8c38f41a-5bb5-4b68-8fc7-03dad46f7548"
      },
      "outputs": [
        {
          "output_type": "stream",
          "name": "stdout",
          "text": [
            "Enter word to rotatemelon\n",
            "Enter number by which to rotate a word:-10\n",
            "c[bed\n"
          ]
        }
      ],
      "source": [
        "def rotate_word(word,n):\n",
        "  rotated_word=\"\"\n",
        "  for i in word:\n",
        "    rotated_word=rotated_word+chr(ord(i)+n)\n",
        "  print(rotated_word)\n",
        "word=input(\"Enter word to rotate\")\n",
        "rotate_number=int(input(\"Enter number by which to rotate a word:\"))\n",
        "rotate_word(word,rotate_number)"
      ]
    },
    {
      "cell_type": "markdown",
      "source": [
        "2. Write a function called has_no_e that returns True if the given word doesn’t have the\n",
        "letter “e” in it. Modify your program to print only the words that have no “e” and\n",
        "compute the percentage of the words in the list have no “e."
      ],
      "metadata": {
        "id": "rRKgH2VazSU2"
      }
    },
    {
      "cell_type": "code",
      "source": [
        "def has_no_e_one(word):\n",
        "    fin = word\n",
        "    for line in fin:\n",
        "        if line.find(\"e\") == -1:\n",
        "            return(\"True\")\n",
        "#has_no_e_one('Manas')\n",
        "has_no_e_one('Eclipse')"
      ],
      "metadata": {
        "colab": {
          "base_uri": "https://localhost:8080/",
          "height": 36
        },
        "id": "DcMxLHsEwk5T",
        "outputId": "e6ffe9a4-3ec8-4340-bc11-7ec6d73bab11"
      },
      "execution_count": 35,
      "outputs": [
        {
          "output_type": "execute_result",
          "data": {
            "application/vnd.google.colaboratory.intrinsic+json": {
              "type": "string"
            },
            "text/plain": [
              "'True'"
            ]
          },
          "metadata": {},
          "execution_count": 35
        }
      ]
    },
    {
      "cell_type": "markdown",
      "source": [
        "Vol 2"
      ],
      "metadata": {
        "id": "LLXYyNWg1fUV"
      }
    },
    {
      "cell_type": "code",
      "source": [
        "def has_no_e(sentence):\n",
        "  count=0\n",
        "  str_len=len(sentence)\n",
        "  for i in sentence:\n",
        "    if(i=='e'):\n",
        "      pass\n",
        "    else:\n",
        "      #print(i)\n",
        "      count=count+1\n",
        "  percent_of_words = (count/str_len) * 100\n",
        "  print(\"Percent:\", percent_of_words)\n",
        "has_no_e(\"Well, That’s No Reason To Cry. One Cries Because One Is Sad\")"
      ],
      "metadata": {
        "id": "wuGtVk_3x15x"
      },
      "execution_count": null,
      "outputs": []
    },
    {
      "cell_type": "markdown",
      "source": [
        "3. Two words are anagrams if you can rearrange the letters from one to spell the other.\n",
        "Write a function called is_anagram that takes two strings and returns True if they are\n",
        "Anagrams"
      ],
      "metadata": {
        "id": "rBGXI9jP5Gsq"
      }
    },
    {
      "cell_type": "code",
      "source": [
        "def areAnagram(str1, str2):  \n",
        "    n1 = len(str1)\n",
        "    n2 = len(str2)\n",
        "    if n1 != n2:\n",
        "        return 0\n",
        "    str1 = sorted(str1)\n",
        "    str2 = sorted(str2)\n",
        "    for i in range(0, n1):\n",
        "        if str1[i] != str2[i]:\n",
        "            return 0\n",
        "    return 1\n",
        "str1 = \"listen\"\n",
        "str2 = \"silent\"\n",
        "if areAnagram(str1, str2):\n",
        "    print(\"The two strings are anagram of each other\")\n",
        "else:\n",
        "    print(\"The two strings are not anagram of each other\")"
      ],
      "metadata": {
        "colab": {
          "base_uri": "https://localhost:8080/"
        },
        "id": "KBkqFv_O4rhR",
        "outputId": "15230731-f8b3-4b93-ae81-48edcc603b4f"
      },
      "execution_count": 41,
      "outputs": [
        {
          "output_type": "stream",
          "name": "stdout",
          "text": [
            "The two strings are anagram of each other\n"
          ]
        }
      ]
    },
    {
      "cell_type": "markdown",
      "source": [
        "4. Implement Binary Search tree using class"
      ],
      "metadata": {
        "id": "nJkT84xU9ND-"
      }
    },
    {
      "cell_type": "code",
      "source": [
        "class BSTNode:\n",
        "    def __init__(self, val=None):\n",
        "        self.left = None\n",
        "        self.right = None\n",
        "        self.val = val\n",
        "\n",
        "    def insert(self, val):\n",
        "        if not self.val:\n",
        "            self.val = val\n",
        "            return\n",
        "\n",
        "        if self.val == val:\n",
        "            return\n",
        "\n",
        "        if val < self.val:\n",
        "            if self.left:\n",
        "                self.left.insert(val)\n",
        "                return\n",
        "            self.left = BSTNode(val)\n",
        "            return\n",
        "\n",
        "        if self.right:\n",
        "            self.right.insert(val)\n",
        "            return\n",
        "        self.right = BSTNode(val)\n",
        "\n",
        "    def get_min(self):\n",
        "        current = self\n",
        "        while current.left is not None:\n",
        "            current = current.left\n",
        "        return current.val\n",
        "\n",
        "    def get_max(self):\n",
        "        current = self\n",
        "        while current.right is not None:\n",
        "            current = current.right\n",
        "        return current.val\n",
        "\n",
        "    def delete(self, val):\n",
        "        if self == None:\n",
        "            return self\n",
        "        if val < self.val:\n",
        "            if self.left:\n",
        "                self.left = self.left.delete(val)\n",
        "            return self\n",
        "        if val > self.val:\n",
        "            if self.right:\n",
        "                self.right = self.right.delete(val)\n",
        "            return self\n",
        "        if self.right == None:\n",
        "            return self.left\n",
        "        if self.left == None:\n",
        "            return self.right\n",
        "        min_larger_node = self.right\n",
        "        while min_larger_node.left:\n",
        "            min_larger_node = min_larger_node.left\n",
        "        self.val = min_larger_node.val\n",
        "        self.right = self.right.delete(min_larger_node.val)\n",
        "        return self\n",
        "\n",
        "    def exists(self, val):\n",
        "        if val == self.val:\n",
        "            return True\n",
        "\n",
        "        if val < self.val:\n",
        "            if self.left == None:\n",
        "                return False\n",
        "            return self.left.exists(val)\n",
        "\n",
        "        if self.right == None:\n",
        "            return False\n",
        "        return self.right.exists(val)\n",
        "\n",
        "    def preorder(self, vals):\n",
        "        if self.val is not None:\n",
        "            vals.append(self.val)\n",
        "        if self.left is not None:\n",
        "            self.left.preorder(vals)\n",
        "        if self.right is not None:\n",
        "            self.right.preorder(vals)\n",
        "        return vals\n",
        "\n",
        "    def inorder(self, vals):\n",
        "        if self.left is not None:\n",
        "            self.left.inorder(vals)\n",
        "        if self.val is not None:\n",
        "            vals.append(self.val)\n",
        "        if self.right is not None:\n",
        "            self.right.inorder(vals)\n",
        "        return vals\n",
        "\n",
        "    def postorder(self, vals):\n",
        "        if self.left is not None:\n",
        "            self.left.postorder(vals)\n",
        "        if self.right is not None:\n",
        "            self.right.postorder(vals)\n",
        "        if self.val is not None:\n",
        "            vals.append(self.val)\n",
        "        return vals\n",
        "nums = [12, 6, 18, 19, 21, 11, 3, 5, 4, 24, 18]\n",
        "bst = BSTNode()\n",
        "for num in nums:\n",
        "    bst.insert(num)\n",
        "print(\"preorder:\")\n",
        "print(bst.preorder([]))\n",
        "print(\"#\")\n",
        "\n",
        "print(\"postorder:\")\n",
        "print(bst.postorder([]))\n",
        "print(\"#\")\n",
        "\n",
        "print(\"inorder:\")\n",
        "print(bst.inorder([]))\n",
        "print(\"#\")\n",
        "\n",
        "nums = [2, 6, 20]\n",
        "print(\"deleting \" + str(nums))\n",
        "for num in nums:\n",
        "  bst.delete(num)\n",
        "print(\"#\")\n",
        "\n",
        "print(\"4 exists:\")\n",
        "print(bst.exists(4))\n",
        "print(\"2 exists:\")\n",
        "print(bst.exists(2))\n",
        "print(\"12 exists:\")\n",
        "print(bst.exists(12))\n",
        "print(\"18 exists:\")\n",
        "print(bst.exists(18))"
      ],
      "metadata": {
        "colab": {
          "base_uri": "https://localhost:8080/"
        },
        "id": "qQyKrTQD5Wpl",
        "outputId": "9318c0e9-3b78-4c26-deec-fe1f02003246"
      },
      "execution_count": 48,
      "outputs": [
        {
          "output_type": "stream",
          "name": "stdout",
          "text": [
            "preorder:\n",
            "[12, 6, 3, 5, 4, 11, 18, 19, 21, 24]\n",
            "#\n",
            "postorder:\n",
            "[4, 5, 3, 11, 6, 24, 21, 19, 18, 12]\n",
            "#\n",
            "inorder:\n",
            "[3, 4, 5, 6, 11, 12, 18, 19, 21, 24]\n",
            "#\n",
            "deleting [2, 6, 20]\n",
            "#\n",
            "4 exists:\n",
            "True\n",
            "2 exists:\n",
            "False\n",
            "12 exists:\n",
            "True\n",
            "18 exists:\n",
            "True\n"
          ]
        }
      ]
    },
    {
      "cell_type": "markdown",
      "source": [
        "5. Using class implement:\n",
        "Singly link list and all its operations"
      ],
      "metadata": {
        "id": "B_pLgSF_-Y4y"
      }
    },
    {
      "cell_type": "code",
      "source": [
        "# A single node of a singly linked list\n",
        "class Node:\n",
        "  # constructor\n",
        "  def __init__(self, data = None, next=None): \n",
        "    self.data = data\n",
        "    self.next = next\n",
        "# A Linked List class with a single head node\n",
        "class LinkedList:\n",
        "  def __init__(self):  \n",
        "    self.head = None\n",
        "  \n",
        "  # insertion method for the linked list\n",
        "  def insert(self, data):\n",
        "    newNode = Node(data)\n",
        "    if(self.head):\n",
        "      current = self.head\n",
        "      while(current.next):\n",
        "        current = current.next\n",
        "      current.next = newNode\n",
        "    else:\n",
        "      self.head = newNode\n",
        "  \n",
        "  # print method for the linked list\n",
        "  def printLL(self):\n",
        "    current = self.head\n",
        "    while(current):\n",
        "      print(current.data)\n",
        "      current = current.next\n",
        "# Singly Linked List with insertion and print methods\n",
        "LL = LinkedList()\n",
        "LL.insert(3)\n",
        "LL.insert(4)\n",
        "LL.insert(5)\n",
        "LL.printLL()"
      ],
      "metadata": {
        "colab": {
          "base_uri": "https://localhost:8080/"
        },
        "id": "P4OLJfWh4wrJ",
        "outputId": "fd49acb0-89f7-4495-9346-7df17cc2d0b1"
      },
      "execution_count": 50,
      "outputs": [
        {
          "output_type": "stream",
          "name": "stdout",
          "text": [
            "3\n",
            "4\n",
            "5\n"
          ]
        }
      ]
    },
    {
      "cell_type": "markdown",
      "source": [
        "6. Write a program that takes a birthday as input and prints the user’s age and the\n",
        "number of days, hours, minutes and seconds until their next birthday. Use Class"
      ],
      "metadata": {
        "id": "TgEoBQ4bBvp9"
      }
    },
    {
      "cell_type": "code",
      "source": [
        "import datetime\n",
        "\n",
        "rules = {0: \"Monday\",\n",
        "         1: \"Tuesday\",\n",
        "         2: \"Wednesday\",\n",
        "         3: \"Thursday\",\n",
        "         4: \"Friday\",\n",
        "         5: \"Saturday\",\n",
        "         6: \"Sunday\"}\n",
        "\n",
        "\n",
        "class Time(object):\n",
        "    now = datetime.datetime.now()\n",
        "\n",
        "    def __init__(self, year=1, month=1, day=1, hour=0, minute=0, second=0):\n",
        "        self.date = datetime.datetime(year, month, day, hour, minute, second)\n",
        "\n",
        "today = Time().now\n",
        "birthday = Time(2001, 4, 13).date\n",
        "\n",
        "\n",
        "def day_of_week():\n",
        "    return \"1) Today is %s\" % rules[today.weekday()]\n",
        "\n",
        "\n",
        "def birthday_stats(birthday):\n",
        "    age = today.year - birthday.year\n",
        "    if (birthday.month == today.month) and (birthday.day <= today.day):\n",
        "        pass\n",
        "    elif birthday.month < today.month:\n",
        "        pass\n",
        "    else:\n",
        "        age -= 1\n",
        "\n",
        "    birthday_ = Time(today.year, birthday.month, birthday.day).date\n",
        "    till_birthday = str(birthday_ - today).split()\n",
        "\n",
        "    if len(till_birthday) > 1:\n",
        "        days = int(till_birthday[0])\n",
        "        time = till_birthday[2].split(\":\")\n",
        "    else:\n",
        "        days = 365\n",
        "        time = till_birthday[0].split(\":\")\n",
        "\n",
        "    hours = time[0]\n",
        "    mins = time[1]\n",
        "    secs = time[2][:2]\n",
        "\n",
        "    if (days < 0) and (days != 365):\n",
        "        days = 365 + days\n",
        "    elif (days == 365):\n",
        "        days = 0\n",
        "    else:\n",
        "        days = abs(days)\n",
        "\n",
        "    print (\"2) You are %s years old; %sd:%sh:%sm:%ss until your next birthday.\"\n",
        "    % (age, days, hours, mins, secs))\n",
        "\n",
        "print(day_of_week())\n",
        "birthday_stats(birthday)"
      ],
      "metadata": {
        "colab": {
          "base_uri": "https://localhost:8080/"
        },
        "id": "Z2BJWnnG_sbS",
        "outputId": "73490240-db88-4c26-f4dc-26c8a3a3bfd9"
      },
      "execution_count": 54,
      "outputs": [
        {
          "output_type": "stream",
          "name": "stdout",
          "text": [
            "1) Today is Thursday\n",
            "2) You are 20 years old; 110d:12h:43m:29s until your next birthday.\n"
          ]
        }
      ]
    },
    {
      "cell_type": "markdown",
      "source": [
        "7. Write a Python program to get all possible unique subsets from a set of distinct\n",
        "integers. Use class"
      ],
      "metadata": {
        "id": "sSjOI2M6Br1K"
      }
    },
    {
      "cell_type": "code",
      "source": [
        "class py_solution:\n",
        "    def sub_sets(self, sset):\n",
        "        return self.subsetsRecur([], sorted(sset))\n",
        "    \n",
        "    def subsetsRecur(self, current, sset):\n",
        "        if sset:\n",
        "            return self.subsetsRecur(current, sset[1:]) + self.subsetsRecur(current + [sset[0]], sset[1:])\n",
        "        return [current]\n",
        "\n",
        "print(py_solution().sub_sets([4,5,6]))\n"
      ],
      "metadata": {
        "colab": {
          "base_uri": "https://localhost:8080/"
        },
        "id": "Njm38vKxAJLN",
        "outputId": "25e14cee-00fd-4fc7-9b5f-9dbd90043617"
      },
      "execution_count": 55,
      "outputs": [
        {
          "output_type": "stream",
          "name": "stdout",
          "text": [
            "[[], [6], [5], [5, 6], [4], [4, 6], [4, 5], [4, 5, 6]]\n"
          ]
        }
      ]
    },
    {
      "cell_type": "code",
      "source": [
        ""
      ],
      "metadata": {
        "id": "7zVcmx8rBqar"
      },
      "execution_count": null,
      "outputs": []
    }
  ]
}