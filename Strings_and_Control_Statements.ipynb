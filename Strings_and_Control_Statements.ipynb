{
  "nbformat": 4,
  "nbformat_minor": 0,
  "metadata": {
    "colab": {
      "name": "Strings and Control Statements.ipynb",
      "provenance": [],
      "collapsed_sections": [],
      "authorship_tag": "ABX9TyNiWArkc7qceoDNLkaRGN+H",
      "include_colab_link": true
    },
    "kernelspec": {
      "name": "python3",
      "display_name": "Python 3"
    },
    "language_info": {
      "name": "python"
    }
  },
  "cells": [
    {
      "cell_type": "markdown",
      "metadata": {
        "id": "view-in-github",
        "colab_type": "text"
      },
      "source": [
        "<a href=\"https://colab.research.google.com/github/manasohara1/Python-/blob/main/Strings_and_Control_Statements.ipynb\" target=\"_parent\"><img src=\"https://colab.research.google.com/assets/colab-badge.svg\" alt=\"Open In Colab\"/></a>"
      ]
    },
    {
      "cell_type": "markdown",
      "source": [
        "I. From Learn Python in 7 days--- from pages 52 to 69 solve the examples"
      ],
      "metadata": {
        "id": "qGOsCvn-Eq5l"
      }
    },
    {
      "cell_type": "code",
      "source": [
        "str1 = \"satyamev jayate\"\n",
        "str1\n",
        "\n",
        "id(str1)\n",
        "\n",
        "str1 = \"Leapx\"\n",
        "id(str1)\n",
        "\n",
        "\n",
        "#import ctypes\n",
        "#ctypes.cast(2400651609712, ctypes.py_object).value\n",
        "\n",
        "a = \"hello jarvis\"\n",
        "print(a)\n",
        "len(a)\n",
        "\n",
        "b= \"\"\n",
        "len(b)\n",
        "\n",
        "name = \"The Avengers\"\n",
        "name[0]\n",
        "\n",
        "len(name)\n",
        "\n",
        "name[11]\n",
        "\n",
        "name[12]\n",
        "\n",
        "name[-1]\n",
        "\n",
        "name[-12]\n",
        "\n",
        "name[0:3]\n",
        "\n",
        "name[:6]\n",
        "\n",
        "name[4:]\n",
        "\n",
        "name[5:9]\n",
        "\n",
        "name[::2]\n",
        "\n",
        "name[::-1] # string is reversed by letters\n",
        "name[-12:-1] # we get the complete string\n",
        "name[-1:-12] # empty string\n",
        "\n",
        "len(name)\n",
        "\n",
        "str1 = 'The Avengers'\n",
        "str1.count(\"e\")\n",
        "\n",
        "str1.count(\"e\",5,12)\n",
        "\n",
        "# syntax for find method\n",
        "# str.find(str, beg=0 end=len(string))\n",
        "\n",
        "str1 = \"peace begins with a smile\"\n",
        "str1.find(\"with\")\n",
        "\n",
        "str1 = \"what we think, we become\"\n",
        "str1.find(\"we\")\n",
        "\n",
        "str1 = \"what we think, we become\"\n",
        "str1.rfind(\"we\")  # reverse find (finding the given word from last)\n",
        "\n",
        "name = \"Mohit RAJ1234\"\n",
        "name.lower()\n",
        "\n",
        "name\n",
        "\n",
        "name = \"Hello jarvis\"\n",
        "name.upper()\n",
        "\n",
        "name\n",
        "\n",
        "name = \"the game\"\n",
        "name.capitalize() # capitalize only the first letter \n",
        "\n",
        "name = 'genesis of a new realm of possibility.'\n",
        "name.title()\n",
        "\n",
        "name\n",
        "\n",
        "name = 'Genesis Of A New Realm Of Possibility.'\n",
        "name.swapcase()\n",
        "\n",
        "name\n",
        "\n",
        "str1 = \"Dr Ambedkarn\"\n",
        "str1.rstrip(\"n\") # reverse strip\n",
        "\n",
        "str2 = \" Baba Saheb \"\n",
        "str2.rstrip()\n",
        "\n",
        "str2\n",
        "\n",
        "str2.strip()\n",
        "\n",
        "str1 = \"27-12-2016\"\n",
        "str1.split(\"-\")\n",
        "\n",
        "list1 = str1.split(\"-\")\n",
        "list1[2]\n",
        "\n",
        "name = \"Mohit raj\"\n",
        "name.split() # by default space is considered while splitting\n",
        "\n",
        "str1 = \"27-12-2016\"\n",
        "str1.rsplit(\"-\", 1)\n",
        "\n",
        "str1= \"Mohit Raj\"\n",
        "\n",
        "str1.ljust(15, \"#\")\n",
        "\n",
        "str2= \"Bhaskar Narayan Das\"\n",
        "str2.ljust(15, \"#\")\n",
        "\n",
        "str1= \"Mohit Raj\"\n",
        "str1.rjust(15, \"#\")\n",
        "\n",
        "str1= \"Mohit Raj\"\n",
        "str1.center(16, \"#\")\n",
        "\n",
        "acc_no = \"3214567987\"\n",
        "acc_no.zfill(15)\n",
        "\n",
        "str1 = \"time is great and time is money\"\n",
        "str1.replace(\"is\",\"was\")\n",
        "\n",
        "str1\n",
        "\n",
        "str1.replace(\"is\",1) # wrong syntax\n",
        "str1.replace(\"is\",\"was\",1)\n",
        "\n",
        "name = [\"Mohit\",\"raj\"]\n",
        "\" \".join(name)\n",
        "\n",
        "\"\".join(name)\n",
        "\n",
        "\"-\".join(name)\n",
        "\n",
        "str1 = \"Life should be great rather than long\"\n",
        "str1.endswith(\"ng\")\n",
        "\n",
        "str1.endswith(\"er\")\n",
        "\n",
        "str1.endswith(\"er\",0,27)\n",
        "\n",
        "str1.startswith(\"Li\")\n",
        "\n",
        "str1.startswith(\"be\", 11)\n",
        "\n",
        "str1.startswith(\"be\", 12, 16)\n",
        "\n",
        "str1 = \"Hello\"\n",
        "str1.isalpha()\n",
        "\n",
        "str2 = \"Hello 123\"\n",
        "str2.isalpha()\n",
        "\n",
        "str3 = \"hello \"\n",
        "str2.isalpha()\n",
        "\n",
        "str1 = \"Hello123\"\n",
        "str1.isalnum()\n",
        "\n",
        "str2 = \"Hello123#\"\n",
        "str2.isalnum()\n",
        "\n",
        "str1 = \"12345\"\n",
        "str1.isdigit()\n",
        "\n",
        "\n",
        "str2 = \"123456H\"\n",
        "str2.isdigit()\n",
        "\n",
        "str1 = \"hello \"\n",
        "str1.isspace()\n",
        "\n",
        "str2 = \" \"\n",
        "str2.isspace()\n",
        "\n",
        "str1 = \"Mohit raj\"\n",
        "str1.istitle()\n",
        "\n",
        "str2 = \"Mohit Raj\"\n",
        "str2.istitle()\n",
        "\n",
        "str1 = \"mohit\"\n",
        "str1.islower()\n",
        "\n",
        "str1 = \"Mohit\"\n",
        "str1.islower()\n",
        "\n",
        "str2 = \"mohit1234\"\n",
        "str2.islower()\n",
        "\n",
        "str3 = \"!@mohit\"\n",
        "str3.islower()\n",
        "\n",
        "str1 = \"MOHIT\"\n",
        "str1.isupper()\n",
        "\n",
        "str2 = \"MOHIT123#$\"\n",
        "str2.isupper()\n",
        "\n",
        "str3 = \"mOHIT\"\n",
        "str3.isupper()\n",
        "\n",
        "str1 = \"Life should be great rather than long\"\n",
        "min(str1)\n",
        "\n",
        "str2 = \"hello!\"\n",
        "min(str2)\n",
        "\n",
        "str1 = \"Life should be great rather than long\"\n",
        "max(str1)\n",
        "\n",
        "str2 = \"hello!\"\n",
        "max(str2)\n",
        "\n",
        "a = 123\n",
        "type(a)\n",
        "\n",
        "str(a)\n",
        "\n",
        "list1 = [1,2]\n",
        "type(list1)\n",
        "\n",
        "str(list1)"
      ],
      "metadata": {
        "colab": {
          "base_uri": "https://localhost:8080/",
          "height": 264
        },
        "id": "jYaBfCE9EqLt",
        "outputId": "de16bee7-2e1d-49fa-c2c7-b085f721819e"
      },
      "execution_count": null,
      "outputs": [
        {
          "output_type": "stream",
          "name": "stdout",
          "text": [
            "hello jarvis\n"
          ]
        },
        {
          "output_type": "error",
          "ename": "IndexError",
          "evalue": "ignored",
          "traceback": [
            "\u001b[0;31m---------------------------------------------------------------------------\u001b[0m",
            "\u001b[0;31mIndexError\u001b[0m                                Traceback (most recent call last)",
            "\u001b[0;32m<ipython-input-8-940482f4f280>\u001b[0m in \u001b[0;36m<module>\u001b[0;34m()\u001b[0m\n\u001b[1;32m     25\u001b[0m \u001b[0mname\u001b[0m\u001b[0;34m[\u001b[0m\u001b[0;36m11\u001b[0m\u001b[0;34m]\u001b[0m\u001b[0;34m\u001b[0m\u001b[0;34m\u001b[0m\u001b[0m\n\u001b[1;32m     26\u001b[0m \u001b[0;34m\u001b[0m\u001b[0m\n\u001b[0;32m---> 27\u001b[0;31m \u001b[0mname\u001b[0m\u001b[0;34m[\u001b[0m\u001b[0;36m12\u001b[0m\u001b[0;34m]\u001b[0m\u001b[0;34m\u001b[0m\u001b[0;34m\u001b[0m\u001b[0m\n\u001b[0m\u001b[1;32m     28\u001b[0m \u001b[0;34m\u001b[0m\u001b[0m\n\u001b[1;32m     29\u001b[0m \u001b[0mname\u001b[0m\u001b[0;34m[\u001b[0m\u001b[0;34m-\u001b[0m\u001b[0;36m1\u001b[0m\u001b[0;34m]\u001b[0m\u001b[0;34m\u001b[0m\u001b[0;34m\u001b[0m\u001b[0m\n",
            "\u001b[0;31mIndexError\u001b[0m: string index out of range"
          ]
        }
      ]
    },
    {
      "cell_type": "markdown",
      "source": [
        "II.\n",
        "1. Display following pattern:"
      ],
      "metadata": {
        "id": "VOArvMBlys6n"
      }
    },
    {
      "cell_type": "code",
      "execution_count": null,
      "metadata": {
        "colab": {
          "base_uri": "https://localhost:8080/"
        },
        "id": "B-5v3Iw1sObf",
        "outputId": "c41a5184-ff6c-4ef5-a12d-b85911fb93fa"
      },
      "outputs": [
        {
          "output_type": "stream",
          "name": "stdout",
          "text": [
            "*\t\n",
            "\n",
            "*\t*\t\n",
            "\n",
            "*\t*\t*\t\n",
            "\n",
            "*\t*\t*\t*\t\n",
            "\n",
            "*\t*\t*\t*\t*\t\n",
            "\n"
          ]
        }
      ],
      "source": [
        "for i in range(1,6):\n",
        "  for j in range(1,i+1):\n",
        "    print(\"*\",end=\"\\t\")\n",
        "  print(\"\\n\")\n"
      ]
    },
    {
      "cell_type": "markdown",
      "source": [
        "II.\n",
        "2. Display following pattern:"
      ],
      "metadata": {
        "id": "oC5pnSvSyv-i"
      }
    },
    {
      "cell_type": "code",
      "source": [
        "def pypart2(n):\n",
        "     \n",
        "   \n",
        "    k = 2*n - 2\n",
        " \n",
        "    \n",
        "    for i in range(0, n):\n",
        "     \n",
        "       \n",
        "        for j in range(0, k):\n",
        "            print(end=\" \")\n",
        "     \n",
        "        \n",
        "        k = k - 2\n",
        "     \n",
        "        \n",
        "        for j in range(0, i+1):\n",
        "         \n",
        "           \n",
        "            print(\"* \", end=\"\")\n",
        "     \n",
        "      \n",
        "        print(\"\\r\")\n",
        " \n",
        "n = 5\n",
        "pypart2(n)"
      ],
      "metadata": {
        "colab": {
          "base_uri": "https://localhost:8080/"
        },
        "id": "ConiitDJsbWs",
        "outputId": "4e757e91-635b-4f96-8f84-0f002a570a77"
      },
      "execution_count": null,
      "outputs": [
        {
          "output_type": "stream",
          "name": "stdout",
          "text": [
            "        * \r\n",
            "      * * \r\n",
            "    * * * \r\n",
            "  * * * * \r\n",
            "* * * * * \r\n"
          ]
        }
      ]
    },
    {
      "cell_type": "markdown",
      "source": [
        "II.\n",
        "3. Display following pattern:"
      ],
      "metadata": {
        "id": "fYty_d_Jy1pR"
      }
    },
    {
      "cell_type": "code",
      "source": [
        "#projects ideas\n",
        "#basics\n",
        "# Python 3.x code to demonstrate star pattern\n",
        " \n",
        "# Function to demonstrate printing pattern of numbers\n",
        "def contnum(n):\n",
        "     \n",
        "    # initializing starting number\n",
        "    num = 1\n",
        " \n",
        "    # outer loop to handle number of rows\n",
        "    for i in range(0, n):\n",
        "     \n",
        "        # not re assigning num\n",
        "        # num = 1\n",
        "     \n",
        "        # inner loop to handle number of columns\n",
        "        # values changing acc. to outer loop\n",
        "        for j in range(0, i+1):\n",
        "         \n",
        "            # printing number\n",
        "            print(num, end=\"\\t\")\n",
        "         \n",
        "            # incrementing number at each column\n",
        "            num = num + 1\n",
        "     \n",
        "        # ending line after each row\n",
        "        print(\"\\r\")\n",
        " \n",
        "n = 5\n",
        " \n",
        "# sending 5 as argument\n",
        "# calling Function\n",
        "contnum(n)"
      ],
      "metadata": {
        "colab": {
          "base_uri": "https://localhost:8080/"
        },
        "id": "auFLOhMWtQA3",
        "outputId": "fb42ed16-69b6-41ea-892a-5f259965b4dc"
      },
      "execution_count": null,
      "outputs": [
        {
          "output_type": "stream",
          "name": "stdout",
          "text": [
            "1\t\r\n",
            "2\t3\t\r\n",
            "4\t5\t6\t\r\n",
            "7\t8\t9\t10\t\r\n",
            "11\t12\t13\t14\t15\t\r\n"
          ]
        }
      ]
    },
    {
      "cell_type": "markdown",
      "source": [
        "II.\n",
        "4. Display following pattern:"
      ],
      "metadata": {
        "id": "XNHcfk7CzxOJ"
      }
    },
    {
      "cell_type": "code",
      "source": [
        "rows = int(input(\"Enter number of rows: \"))\n",
        "\n",
        "for i in range(rows):\n",
        "    for j in range(i+1):\n",
        "        print(j+1, end=\"\\t\")\n",
        "    print(\"\\n\")"
      ],
      "metadata": {
        "colab": {
          "base_uri": "https://localhost:8080/"
        },
        "id": "qdnBXEzXzqkb",
        "outputId": "cc8df649-de70-4a2f-a4fe-dc87a912b1bd"
      },
      "execution_count": null,
      "outputs": [
        {
          "output_type": "stream",
          "name": "stdout",
          "text": [
            "Enter number of rows: 6\n",
            "1\t\n",
            "\n",
            "1\t2\t\n",
            "\n",
            "1\t2\t3\t\n",
            "\n",
            "1\t2\t3\t4\t\n",
            "\n",
            "1\t2\t3\t4\t5\t\n",
            "\n",
            "1\t2\t3\t4\t5\t6\t\n",
            "\n"
          ]
        }
      ]
    },
    {
      "cell_type": "markdown",
      "source": [
        "II.\n",
        "5. Display following pattern:"
      ],
      "metadata": {
        "id": "UkwbrDtezcSq"
      }
    },
    {
      "cell_type": "code",
      "source": [
        "rows = int(input(\"Enter number of rows: \"))\n",
        "\n",
        "k = 0\n",
        "\n",
        "for i in range(1, rows+1):\n",
        "    for space in range(1, (rows-i)+1):\n",
        "        print(end=\"\\t\")\n",
        "   \n",
        "    while k!=(2*i-1):\n",
        "        print(\"* \", end=\"\\t\")\n",
        "        k += 1\n",
        "   \n",
        "    k = 0\n",
        "    print()"
      ],
      "metadata": {
        "id": "6c_EL0cRxEol",
        "colab": {
          "base_uri": "https://localhost:8080/"
        },
        "outputId": "439a366b-cd36-4af4-f9bc-c947b8cacb97"
      },
      "execution_count": null,
      "outputs": [
        {
          "output_type": "stream",
          "name": "stdout",
          "text": [
            "Enter number of rows: 5\n",
            "\t\t\t\t* \t\n",
            "\t\t\t* \t* \t* \t\n",
            "\t\t* \t* \t* \t* \t* \t\n",
            "\t* \t* \t* \t* \t* \t* \t* \t\n",
            "* \t* \t* \t* \t* \t* \t* \t* \t* \t\n"
          ]
        }
      ]
    },
    {
      "cell_type": "markdown",
      "source": [
        "II\n",
        "6. Write a program to perform following string Operations input: test = &#39;This is\n",
        "just a simple string.&#39;\n",
        "\n",
        "\n",
        "Length\n",
        "\n",
        "Replace\n",
        "\n",
        "\n",
        "Count\n",
        "\n",
        "\n",
        "Find\n",
        "\n",
        "\n",
        "Split String and choose the point that we split it at\n",
        "\n",
        "\n",
        "Re-joining our split string can be done using the join method\n",
        "Capitalize only the first letter of the lowercase string"
      ],
      "metadata": {
        "id": "Q0P1tlgf0G0v"
      }
    },
    {
      "cell_type": "code",
      "source": [
        "test=\"This is just a simple string\"\n",
        "#length\n",
        "print(\"Length of test string is :\"+str(len(test)))\n",
        "#replace\n",
        "print(\"Before replacement test string : \"+test)\n",
        "replaced_string=test.replace(\"string\",\"thing\")\n",
        "print(\"After replacement test string : \"+replaced_string)\n",
        "#count\n",
        "print(\"Count of 's' in test string is :\"+str(test.count(\"s\")))\n",
        "#find\n",
        "print(\"Finding s(count) : \"+str(test.find('s')))\n",
        "#split & rejoin\n",
        "test=test.split()\n",
        "print(\"After splitting a string : \"+str(test))\n",
        "joined_string=\" \".join(test)\n",
        "print(\"Joined string :\"+str(joined_string))"
      ],
      "metadata": {
        "colab": {
          "base_uri": "https://localhost:8080/"
        },
        "id": "su9CfjqBxo1W",
        "outputId": "46cfdfee-69ec-4c68-cea2-799bc5ac63cd"
      },
      "execution_count": null,
      "outputs": [
        {
          "output_type": "stream",
          "name": "stdout",
          "text": [
            "Length of test string is :28\n",
            "Before replacement test string : This is just a simple string\n",
            "After replacement test string : This is just a simple thing\n",
            "Count of 's' in test string is :5\n",
            "Finding s(count) : 3\n",
            "After splitting a string : ['This', 'is', 'just', 'a', 'simple', 'string']\n",
            "Joined string :This is just a simple string\n"
          ]
        }
      ]
    },
    {
      "cell_type": "markdown",
      "source": [
        "II\n",
        "7. Write a program to modify a string in place:\n",
        "For eg.\n",
        "Input:”Hello, World”\n",
        "Output:”Hello, there!”\n",
        "\n",
        "Output: “yello, world”\n"
      ],
      "metadata": {
        "id": "HmwKgvqm45uY"
      }
    },
    {
      "cell_type": "code",
      "source": [
        "input_string=\"Hello, World\"\n",
        "temp_string=input_string.replace(\"World\",\"There\")\n",
        "print(\"Input String : \"+input_string)\n",
        "print(\"Replaced String1 : \"+temp_string)\n",
        "temp_string=input_string.replace(\"Hello\",\"yello\")\n",
        "print(\"Replaced String2 : \"+temp_string)"
      ],
      "metadata": {
        "colab": {
          "base_uri": "https://localhost:8080/"
        },
        "id": "blk6FOeK1d4r",
        "outputId": "2ace601d-436e-4dda-cde6-f2f42a7dc3f5"
      },
      "execution_count": null,
      "outputs": [
        {
          "output_type": "stream",
          "name": "stdout",
          "text": [
            "Input String : Hello, World\n",
            "Replaced String1 : Hello, There\n",
            "Replaced String2 : yello, World\n"
          ]
        }
      ]
    },
    {
      "cell_type": "markdown",
      "source": [
        "II\n",
        "8. Write a program to remove duplicate words from a given string"
      ],
      "metadata": {
        "id": "ndmUy6DV6L9p"
      }
    },
    {
      "cell_type": "code",
      "source": [
        "from collections import Counter\n",
        " \n",
        "def remov_duplicates(input):\n",
        " \n",
        "    # split input string separated by space\n",
        "    input = input.split(\" \")\n",
        " \n",
        "    # joins two adjacent elements in iterable way\n",
        "    for i in range(0, len(input)):\n",
        "        input[i] = \"\".join(input[i])\n",
        " \n",
        "    # now create dictionary using counter method\n",
        "    # which will have strings as key and their\n",
        "    # frequencies as value\n",
        "    UniqW = Counter(input)\n",
        " \n",
        "    # joins two adjacent elements in iterable way\n",
        "    s = \" \".join(UniqW.keys())\n",
        "    return s\n",
        " \n",
        "# Driver program\n",
        "if __name__ == \"__main__\":\n",
        "    input = 'Python is great and Java is also great'\n",
        "    print(\"Input : \"+input)\n",
        "    print(\"Result \",remov_duplicates(input))"
      ],
      "metadata": {
        "colab": {
          "base_uri": "https://localhost:8080/"
        },
        "id": "G3kSgsW85jBm",
        "outputId": "d2fb46bf-345d-40d0-ed77-68022486f423"
      },
      "execution_count": null,
      "outputs": [
        {
          "output_type": "stream",
          "name": "stdout",
          "text": [
            "Input : Python is great and Java is also great\n",
            "Result  Python is great and Java also\n"
          ]
        }
      ]
    },
    {
      "cell_type": "markdown",
      "source": [
        "II\n",
        "9. Write a program to remove special characters from a given string"
      ],
      "metadata": {
        "id": "y542zNeq8mXX"
      }
    },
    {
      "cell_type": "code",
      "source": [
        "# Python3 code to demonstrate\n",
        "# removal of bad_chars\n",
        "# using replace()\n",
        " \n",
        "# initializing bad_chars_list\n",
        "bad_chars = [';', ':', '!', \"*\",\"#\",\"@\",\"$\",\"%\",\"^\",\"&\",\"*\"]\n",
        " \n",
        "# initializing test string\n",
        "test_string = \"M@an@as$ Oh#$%^&*ara\"\n",
        " \n",
        "# printing original string\n",
        "print (\"Original String : \" + test_string)\n",
        " \n",
        "# using replace() to\n",
        "# remove bad_chars\n",
        "for i in bad_chars :\n",
        "    test_string = test_string.replace(i, '')\n",
        " \n",
        "# printing resultant string\n",
        "print (\"Resultant list is : \" + str(test_string))"
      ],
      "metadata": {
        "colab": {
          "base_uri": "https://localhost:8080/"
        },
        "id": "ZHXFyLGc6T1r",
        "outputId": "dc505698-47c2-4e39-beef-c95c4ced6637"
      },
      "execution_count": null,
      "outputs": [
        {
          "output_type": "stream",
          "name": "stdout",
          "text": [
            "Original String : M@an@as$ Oh#$%^&*ara\n",
            "Resultant list is : Manas Ohara\n"
          ]
        }
      ]
    },
    {
      "cell_type": "markdown",
      "source": [
        "II\n",
        "10. Write a program find the common values that appear in two given strings"
      ],
      "metadata": {
        "id": "Yp5Y_PTP9mJE"
      }
    },
    {
      "cell_type": "code",
      "source": [
        "def intersection_of_two_string(str1, str2):\n",
        "    result = \"\"\n",
        "    for ch in str1:\n",
        "        if ch in str2 and not ch in result:\n",
        "            result += ch\n",
        "    return result\n",
        "\n",
        "str1 = 'Valar Moghulis'\n",
        "str2 = 'Valar Dohaeris'\n",
        "print(\"Original strings:\")\n",
        "print(str1)\n",
        "print(str2)\n",
        "print(\"\\nIntersection of two said String:\") \n",
        "print(intersection_of_two_string(str1, str2))\n"
      ],
      "metadata": {
        "colab": {
          "base_uri": "https://localhost:8080/"
        },
        "id": "HZGQNZCu7MR4",
        "outputId": "1055bfa2-9600-48ad-e2ca-d167caf7eb04"
      },
      "execution_count": null,
      "outputs": [
        {
          "output_type": "stream",
          "name": "stdout",
          "text": [
            "Original strings:\n",
            "Valar Moghulis\n",
            "Valar Dohaeris\n",
            "\n",
            "Intersection of two said String:\n",
            "Valr ohis\n"
          ]
        }
      ]
    },
    {
      "cell_type": "markdown",
      "source": [
        "II\n",
        "11. Write a program to reverse words in a string"
      ],
      "metadata": {
        "id": "VX6DkjL4-ILT"
      }
    },
    {
      "cell_type": "code",
      "source": [
        "str=\"Manas\"\n",
        "str[::-1]"
      ],
      "metadata": {
        "colab": {
          "base_uri": "https://localhost:8080/",
          "height": 36
        },
        "id": "yndGZLy69yt0",
        "outputId": "6964bfda-6690-4959-ac2f-fda2c041473c"
      },
      "execution_count": null,
      "outputs": [
        {
          "output_type": "execute_result",
          "data": {
            "application/vnd.google.colaboratory.intrinsic+json": {
              "type": "string"
            },
            "text/plain": [
              "'sanaM'"
            ]
          },
          "metadata": {},
          "execution_count": 83
        }
      ]
    },
    {
      "cell_type": "markdown",
      "source": [
        "II\n",
        "12. Write a program to count the number of occurrences of all vowels present in\n",
        "a string"
      ],
      "metadata": {
        "id": "SNpn8b3w-vGo"
      }
    },
    {
      "cell_type": "code",
      "source": [
        "string_ip=\"Soiet Union\"\n",
        "vowels=0\n",
        "for i in string_ip:\n",
        "      if(i=='a' or i=='e' or i=='i' or i=='o' or i=='u' or i=='A' or i=='E' or i=='I' or i=='O' or i=='U'):\n",
        "            vowels=vowels+1\n",
        "print(\"Number of vowels are:\")\n",
        "print(vowels)"
      ],
      "metadata": {
        "colab": {
          "base_uri": "https://localhost:8080/"
        },
        "id": "EQbyyyoQ-GsJ",
        "outputId": "d76028ce-7672-4706-a8c7-662e77695e81"
      },
      "execution_count": null,
      "outputs": [
        {
          "output_type": "stream",
          "name": "stdout",
          "text": [
            "Number of vowels are:\n",
            "6\n"
          ]
        }
      ]
    },
    {
      "cell_type": "markdown",
      "source": [
        "II\n",
        "13. Write a program to check whether the given string is palindrome or not"
      ],
      "metadata": {
        "id": "IXeYoQyYBomt"
      }
    },
    {
      "cell_type": "code",
      "source": [
        "input_string=\"Nice haT BoB Tah eciN\"\n",
        "reverese_string=input_string[::-1]\n",
        "print(\"Input String : \"+input_string)\n",
        "print(\"Reversed String :\"+reverese_string)\n",
        "if(input_string==reverese_string):\n",
        "  print(\"String is pallindrome\")\n",
        "else:\n",
        "  print(\"String is not pallindrome\")"
      ],
      "metadata": {
        "colab": {
          "base_uri": "https://localhost:8080/"
        },
        "id": "jgWqdLCL-Tz5",
        "outputId": "3fd6f910-e946-4913-9516-b957810c608a"
      },
      "execution_count": null,
      "outputs": [
        {
          "output_type": "stream",
          "name": "stdout",
          "text": [
            "Input String : Nice haT BoB Tah eciN\n",
            "Reversed String :Nice haT BoB Tah eciN\n",
            "String is pallindrome\n"
          ]
        }
      ]
    },
    {
      "cell_type": "markdown",
      "source": [
        "II\n",
        "14. Write a program to convert alternate characters to capital letters"
      ],
      "metadata": {
        "id": "YaJ-wQR7DzIo"
      }
    },
    {
      "cell_type": "code",
      "source": [
        "# Python3 code to demonstrate working of\n",
        "# Alternate cases in String\n",
        "# Using list comprehension\n",
        " \n",
        "# initializing string\n",
        "test_str = \"ManasOhara\"\n",
        " \n",
        "# printing original string\n",
        "print(\"The original string is : \" + test_str)\n",
        " \n",
        "# Using list comprehension\n",
        "# Alternate cases in String\n",
        "res = [ele.upper() if not idx % 2 else ele.lower() for idx, ele in enumerate(test_str)]\n",
        "res = \"\".join(res)\n",
        " \n",
        "# printing result\n",
        "print(\"The alternate case string is : \" + res)"
      ],
      "metadata": {
        "colab": {
          "base_uri": "https://localhost:8080/"
        },
        "id": "N9G5hXtrBKC6",
        "outputId": "1423a1a6-a7b2-4153-fac6-d1daf33a2e7c"
      },
      "execution_count": null,
      "outputs": [
        {
          "output_type": "stream",
          "name": "stdout",
          "text": [
            "The original string is : ManasOhara\n",
            "The alternate case string is : MaNaSoHaRa\n"
          ]
        }
      ]
    },
    {
      "cell_type": "markdown",
      "source": [
        "II\n",
        "15. Write a program which stores all deleted consonants in a string from the\n",
        "given string: “ Good afternoon, we are implementing strings”"
      ],
      "metadata": {
        "id": "wHfqiQ-uINSl"
      }
    },
    {
      "cell_type": "code",
      "source": [
        "#Python3 code to demonstrate working of \n",
        "# Remove all consonents from string\n",
        "# Using list comprehension\n",
        "  \n",
        "# initializing string\n",
        "test_str = \"Good afternoon, we are implementing strings\"\n",
        "  \n",
        "# printing original string\n",
        "print(\"The original string is : \" + test_str)\n",
        "  \n",
        "# Remove all consonents from string\n",
        "# Using list comprehension\n",
        "res = \"\".join([chr for chr in test_str if chr in \"aeiouAEIOU\"])\n",
        "  \n",
        "# printing result \n",
        "print(\"String after consonents removal : \" + res)"
      ],
      "metadata": {
        "colab": {
          "base_uri": "https://localhost:8080/"
        },
        "id": "SP1UhdTKETmo",
        "outputId": "2f300482-31f3-4a2f-844e-a9c3b13b7b98"
      },
      "execution_count": null,
      "outputs": [
        {
          "output_type": "stream",
          "name": "stdout",
          "text": [
            "The original string is : Good afternoon, we are implementing strings\n",
            "String after consonents removal : ooaeooeaeieeii\n"
          ]
        }
      ]
    },
    {
      "cell_type": "markdown",
      "source": [
        "II\n",
        "16. Write a program that accepts sequence of lines as input and prints the lines\n",
        "after making all characters in the sentence capitalized."
      ],
      "metadata": {
        "id": "4RtFEjqsFfbc"
      }
    },
    {
      "cell_type": "code",
      "source": [
        "def scriptCap():\n",
        "    n = 1\n",
        "    st1 = \"\"\n",
        "    while(n != -1):\n",
        "        n = int(input(\"Choose among following:-\\nTo enter some text : press 1\\nTo Exit : press -1\\n\"))\n",
        "        if (n == 1):\n",
        "            txt = input(\"Enter some text : \\n\")\n",
        "            st1 = st1 + txt + \" \"\n",
        "        elif(n == -1):\n",
        "            return((st1.upper()).rstrip())    \n",
        "            \n",
        "\n",
        "scriptCap()"
      ],
      "metadata": {
        "colab": {
          "base_uri": "https://localhost:8080/",
          "height": 221
        },
        "id": "-iR9k4JoFI-9",
        "outputId": "d4fe519c-7b5e-4dbf-f5fb-149a82a6bc36"
      },
      "execution_count": 3,
      "outputs": [
        {
          "name": "stdout",
          "output_type": "stream",
          "text": [
            "Choose among following:-\n",
            "To enter some text : press 1\n",
            "To Exit : press -1\n",
            "1\n",
            "Enter some text : \n",
            "manas OhAra\n",
            "Choose among following:-\n",
            "To enter some text : press 1\n",
            "To Exit : press -1\n",
            "-1\n"
          ]
        },
        {
          "output_type": "execute_result",
          "data": {
            "application/vnd.google.colaboratory.intrinsic+json": {
              "type": "string"
            },
            "text/plain": [
              "'MANAS OHARA'"
            ]
          },
          "metadata": {},
          "execution_count": 3
        }
      ]
    },
    {
      "cell_type": "markdown",
      "source": [
        "II\n",
        "17. Write a program that accepts a sentence and calculate the number of upper\n",
        "case letters and lower case letters."
      ],
      "metadata": {
        "id": "8G6CuYx8DJDd"
      }
    },
    {
      "cell_type": "code",
      "source": [
        "input_string=input(\"Enter a sentence : \")\n",
        "upper_cnt=0\n",
        "lower_cnt=0\n",
        "for i in input_string:\n",
        "  if(i.isupper()):\n",
        "    upper_cnt=upper_cnt+1\n",
        "  elif(i.islower()):\n",
        "    lower_cnt=lower_cnt+1\n",
        "print(\"Upper Character count in sentence is : \"+str(upper_cnt)+\"\\n Lower Character count in sentence is : \"+str(lower_cnt))"
      ],
      "metadata": {
        "id": "loLIZHG0IZ7Z",
        "colab": {
          "base_uri": "https://localhost:8080/"
        },
        "outputId": "5374afa8-9c1c-48bc-acf6-f5786e900a10"
      },
      "execution_count": null,
      "outputs": [
        {
          "output_type": "stream",
          "name": "stdout",
          "text": [
            "Enter a sentence : Manas Ohara,Pune\n",
            "Upper Character count in sentence is : 3\n",
            " Lower Character count in sentence is : 11\n"
          ]
        }
      ]
    }
  ]
}