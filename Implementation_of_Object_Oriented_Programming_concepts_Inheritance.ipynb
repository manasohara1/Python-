{
  "nbformat": 4,
  "nbformat_minor": 0,
  "metadata": {
    "colab": {
      "name": "Implementation of Object Oriented Programming concepts-Inheritance.ipynb",
      "provenance": [],
      "authorship_tag": "ABX9TyPg2lSTxwgHDRdpYp76LTok",
      "include_colab_link": true
    },
    "kernelspec": {
      "name": "python3",
      "display_name": "Python 3"
    },
    "language_info": {
      "name": "python"
    }
  },
  "cells": [
    {
      "cell_type": "markdown",
      "metadata": {
        "id": "view-in-github",
        "colab_type": "text"
      },
      "source": [
        "<a href=\"https://colab.research.google.com/github/manasohara1/Python-/blob/main/Implementation_of_Object_Oriented_Programming_concepts_Inheritance.ipynb\" target=\"_parent\"><img src=\"https://colab.research.google.com/assets/colab-badge.svg\" alt=\"Open In Colab\"/></a>"
      ]
    },
    {
      "cell_type": "markdown",
      "source": [
        "1. Write a program to implement inheritance, create a class named as\n",
        "polygon. Input the number of sides of a polygon and display them. Create\n",
        "a class named as triangle which inherits properties from polygon and\n",
        "calculates and displays area of the triangle."
      ],
      "metadata": {
        "id": "vo9N101Etx2q"
      }
    },
    {
      "cell_type": "code",
      "execution_count": 1,
      "metadata": {
        "id": "es7UpC42pqL_"
      },
      "outputs": [],
      "source": [
        "class Polygon:\n",
        "    def __init__(self, no_of_sides):\n",
        "        self.n = no_of_sides\n",
        "        self.sides = [0 for i in range(no_of_sides)]\n",
        "\n",
        "    def inputSides(self):\n",
        "        self.sides = [float(input(\"Enter side \"+str(i+1)+\" : \")) for i in range(self.n)]\n",
        "\n",
        "    def dispSides(self):\n",
        "        for i in range(self.n):\n",
        "            print(\"Side\",i+1,\"is\",self.sides[i])\n",
        "class Triangle(Polygon):\n",
        "    def __init__(self):\n",
        "        Polygon.__init__(self,3)\n",
        "\n",
        "    def findArea(self):\n",
        "        a, b, c = self.sides\n",
        "        # calculate the semi-perimeter\n",
        "        s = (a + b + c) / 2\n",
        "        area = (s*(s-a)*(s-b)*(s-c)) ** 0.5\n",
        "        print('The area of the triangle is %0.2f' %area)\n"
      ]
    },
    {
      "cell_type": "code",
      "source": [
        "t = Triangle()\n",
        "t.inputSides()\n",
        "t.dispSides()\n",
        "t.findArea()\n"
      ],
      "metadata": {
        "colab": {
          "base_uri": "https://localhost:8080/"
        },
        "id": "uz5fDGF-rkeF",
        "outputId": "71d07779-7c08-410a-bd88-c7ecdfd8ada1"
      },
      "execution_count": 2,
      "outputs": [
        {
          "output_type": "stream",
          "name": "stdout",
          "text": [
            "Enter side 1 : 3\n",
            "Enter side 2 : 6\n",
            "Enter side 3 : 9\n",
            "Side 1 is 3.0\n",
            "Side 2 is 6.0\n",
            "Side 3 is 9.0\n",
            "The area of the triangle is 0.00\n"
          ]
        }
      ]
    },
    {
      "cell_type": "markdown",
      "source": [
        "2. Write a program to define a class named Shape and its subclass Square.\n",
        "The Square class has an init function which takes a length as argument.\n",
        "Both classes have an area function which can print the area of the shape\n",
        "where Shape&#39;s area is 0 by default."
      ],
      "metadata": {
        "id": "U_SP5TLqwgJW"
      }
    },
    {
      "cell_type": "code",
      "source": [
        "class Shape:\n",
        "  def __init__(self):\n",
        "    pass\n",
        "  def area(self):\n",
        "    return 0\n",
        "class Square(Shape):\n",
        "  def __init__(self,length=0):\n",
        "    Shape.__init__(self)\n",
        "    self.length=length\n",
        "    self.length=length\n",
        "  def area(self):\n",
        "    return self.length*self.length\n",
        "obj=Square(4)\n",
        "print(obj.area())\n",
        "print(Square().area())"
      ],
      "metadata": {
        "colab": {
          "base_uri": "https://localhost:8080/"
        },
        "id": "7YWNeFEjrsts",
        "outputId": "3ae05513-b0ce-47d1-9802-5564864d71b5"
      },
      "execution_count": 3,
      "outputs": [
        {
          "output_type": "stream",
          "name": "stdout",
          "text": [
            "16\n",
            "0\n"
          ]
        }
      ]
    },
    {
      "cell_type": "markdown",
      "source": [
        "3. Write a program to create a class, Triangle. It’s __init__() method should\n",
        "take self, angle1, angle2, and angle3 as arguments. Create a variable and\n",
        "set it equal to 3. Create a method in which the sum of a triangle&#39;s three\n",
        "angles is: It should return true if the sum of self.angle1, self.angle2, and\n",
        "self.angle3 is equal 180, and False otherwise."
      ],
      "metadata": {
        "id": "GdV3apiTwmru"
      }
    },
    {
      "cell_type": "code",
      "source": [
        "class Triangle:\n",
        "  def __init__(self,angle1,angle2,angle3):\n",
        "    self.angle1=angle1\n",
        "    self.angle2=angle2\n",
        "    self.angle3=angle3\n",
        "  def sum_of_angle(self):\n",
        "    if self.angle1+self.angle2+self.angle3==180 :\n",
        "      return True\n",
        "    else :\n",
        "      return False\n",
        "a=int(input(\"Enter angle1\"))\n",
        "b=int(input(\"Enter angle2\"))\n",
        "c=int(input(\"Enter angle3\"))\n",
        "t=Triangle(a,b,c)\n",
        "print(t.sum_of_angle())"
      ],
      "metadata": {
        "colab": {
          "base_uri": "https://localhost:8080/"
        },
        "id": "T9Ombxt6wcFA",
        "outputId": "8e9673f2-cb76-44fb-c0f0-2d647542ecc5"
      },
      "execution_count": 13,
      "outputs": [
        {
          "output_type": "stream",
          "name": "stdout",
          "text": [
            "Enter angle1100\n",
            "Enter angle260\n",
            "Enter angle320\n",
            "True\n"
          ]
        }
      ]
    },
    {
      "cell_type": "markdown",
      "source": [
        "4. Write a program to create base class Vehicle and derived classes Bus and\n",
        "Car. Implement inheritance, include required attributes and methods for\n",
        "all the three classes."
      ],
      "metadata": {
        "id": "XLhkuT5xz5LV"
      }
    },
    {
      "cell_type": "code",
      "source": [
        "class Vehicle:\n",
        "  def __init__(self,type,brand):\n",
        "    self.type=type\n",
        "    self.brand=brand\n",
        "  def getdetails(self):\n",
        "    print(\"Type : \"+self.type+\"\\n Brand : \"+self.brand)\n",
        "class Bus(Vehicle):\n",
        "  def __init__(self,type,brand,model):\n",
        "    super().__init__(type,brand)\n",
        "    self.model=model\n",
        "  def move(self):\n",
        "    print(\"Bus of \"+self.brand+\" is moving.....\")\n",
        "class Car(Vehicle):\n",
        "  def __init__(self,type,brand,speed):\n",
        "    super().__init__(type,brand)\n",
        "    self.speed=speed\n",
        "  def move(self):\n",
        "    print(\"Car is moving at \"+str(self.speed)+\"  km/h\")\n",
        "v=Vehicle(\"Car\",\"Ferarri\")\n",
        "v.getdetails()\n",
        "b=Bus(\"Bus\",\"Volvo\",\"S200\")\n",
        "b.getdetails()\n",
        "c=Car(\"Car\",\"Maserati\",40)\n",
        "c.getdetails()\n",
        "b.move()\n",
        "c.move()"
      ],
      "metadata": {
        "colab": {
          "base_uri": "https://localhost:8080/"
        },
        "id": "Op5JdeEwx5et",
        "outputId": "6bab7b41-dfb7-4b7c-cffb-047793cc2abe"
      },
      "execution_count": 44,
      "outputs": [
        {
          "output_type": "stream",
          "name": "stdout",
          "text": [
            "Type : Car\n",
            " Brand : Ferarri\n",
            "Type : Bus\n",
            " Brand : Volvo\n",
            "Type : Car\n",
            " Brand : Maserati\n",
            "Bus of Volvo is moving.....\n",
            "Car is moving at 40  km/h\n"
          ]
        }
      ]
    },
    {
      "cell_type": "markdown",
      "source": [
        "5. Write a Python class to find the three elements that sum to zero from a set\n",
        "of n real numbers.\n",
        "Input : [-25, -10, -7, -3, 2, 4, 8, 10]\n",
        "Output : [[-10, 2, 8], [-7, -3, 10]]"
      ],
      "metadata": {
        "id": "wD8L_Isr7ims"
      }
    },
    {
      "cell_type": "code",
      "source": [
        "class py_solution:\n",
        " def threeSum(self, nums):\n",
        "        nums, result, i = sorted(nums), [], 0\n",
        "        while i < len(nums) - 2:\n",
        "            j, k = i + 1, len(nums) - 1\n",
        "            while j < k:\n",
        "                if nums[i] + nums[j] + nums[k] < 0:\n",
        "                    j += 1\n",
        "                elif nums[i] + nums[j] + nums[k] > 0:\n",
        "                    k -= 1\n",
        "                else:\n",
        "                    result.append([nums[i], nums[j], nums[k]])\n",
        "                    j, k = j + 1, k - 1\n",
        "                    while j < k and nums[j] == nums[j - 1]:\n",
        "                        j += 1\n",
        "                    while j < k and nums[k] == nums[k + 1]:\n",
        "                        k -= 1\n",
        "            i += 1\n",
        "            while i < l en(nums) - 2 and nums[i] == nums[i - 1]:\n",
        "                i += 1\n",
        "        return result\n",
        "\n",
        "print(py_solution().threeSum([-25, -10, -7, -3, 2, 4, 8, 10]))\n"
      ],
      "metadata": {
        "colab": {
          "base_uri": "https://localhost:8080/"
        },
        "id": "IH3aOrsz2lm5",
        "outputId": "22639daf-caa5-45fe-f1ac-947743e6da9f"
      },
      "execution_count": 27,
      "outputs": [
        {
          "output_type": "stream",
          "name": "stdout",
          "text": [
            "[[-10, 2, 8], [-7, -3, 10]]\n"
          ]
        }
      ]
    },
    {
      "cell_type": "markdown",
      "source": [
        "6. Using class implement:\n",
        "Queue and all its operations"
      ],
      "metadata": {
        "id": "5J9Rhp7Z8PvL"
      }
    },
    {
      "cell_type": "code",
      "source": [
        "queue = []\n",
        "queue.append('a')\n",
        "queue.append('b')\n",
        "queue.append('c')\n",
        "print(\"Initial queue\")\n",
        "print(queue)\n",
        "print(\"\\nElements dequeued from queue\")\n",
        "print(queue.pop(0))\n",
        "print(queue.pop(0))\n",
        "print(queue.pop(0))\n",
        "print(\"\\nQueue after removing elements\")\n",
        "print(queue)"
      ],
      "metadata": {
        "colab": {
          "base_uri": "https://localhost:8080/"
        },
        "id": "2fobLlTn7djk",
        "outputId": "51865817-cdeb-4ef8-8c33-a269bb309ffa"
      },
      "execution_count": 28,
      "outputs": [
        {
          "output_type": "stream",
          "name": "stdout",
          "text": [
            "Initial queue\n",
            "['a', 'b', 'c']\n",
            "\n",
            "Elements dequeued from queue\n",
            "a\n",
            "b\n",
            "c\n",
            "\n",
            "Queue after removing elements\n",
            "[]\n"
          ]
        }
      ]
    },
    {
      "cell_type": "code",
      "source": [
        "from collections import deque\n",
        "q = deque()\n",
        "q.append('a')\n",
        "q.append('b')\n",
        "q.append('c')\n",
        "print(\"Initial queue\")\n",
        "print(q)\n",
        "print(\"\\nElements dequeued from the queue\")\n",
        "print(q.popleft())\n",
        "print(q.popleft())\n",
        "print(q.popleft())\n",
        "print(\"\\nQueue after removing elements\")\n",
        "print(q)"
      ],
      "metadata": {
        "colab": {
          "base_uri": "https://localhost:8080/"
        },
        "id": "yyhWXNy08N_J",
        "outputId": "f8366690-1c84-471a-b8a3-1b393e22e494"
      },
      "execution_count": 29,
      "outputs": [
        {
          "output_type": "stream",
          "name": "stdout",
          "text": [
            "Initial queue\n",
            "deque(['a', 'b', 'c'])\n",
            "\n",
            "Elements dequeued from the queue\n",
            "a\n",
            "b\n",
            "c\n",
            "\n",
            "Queue after removing elements\n",
            "deque([])\n"
          ]
        }
      ]
    },
    {
      "cell_type": "code",
      "source": [
        "from queue import Queue\n",
        "q = Queue(maxsize = 3)\n",
        "print(q.qsize())\n",
        "q.put('a')\n",
        "q.put('b')\n",
        "q.put('c')\n",
        "print(\"\\nFull: \", q.full())\n",
        "print(\"\\nElements dequeued from the queue\")\n",
        "print(q.get())\n",
        "print(q.get())\n",
        "print(q.get())\n",
        "print(\"\\nEmpty: \", q.empty())\n",
        "q.put(1)\n",
        "print(\"\\nEmpty: \", q.empty())\n",
        "print(\"Full: \", q.full())"
      ],
      "metadata": {
        "colab": {
          "base_uri": "https://localhost:8080/"
        },
        "id": "VvBj2TCW8n3W",
        "outputId": "954896b5-6d0d-4140-a3f7-3bec265e17ca"
      },
      "execution_count": 30,
      "outputs": [
        {
          "output_type": "stream",
          "name": "stdout",
          "text": [
            "0\n",
            "\n",
            "Full:  True\n",
            "\n",
            "Elements dequeued from the queue\n",
            "a\n",
            "b\n",
            "c\n",
            "\n",
            "Empty:  True\n",
            "\n",
            "Empty:  False\n",
            "Full:  False\n"
          ]
        }
      ]
    },
    {
      "cell_type": "markdown",
      "source": [
        "7. Using class implement:\n",
        "Stack and all its operations"
      ],
      "metadata": {
        "id": "RJRjVhVF9nUn"
      }
    },
    {
      "cell_type": "code",
      "source": [
        "stack = []\n",
        "stack.append('a')\n",
        "stack.append('b')\n",
        "stack.append('c')\n",
        "print('Initial stack')\n",
        "print(stack)\n",
        "print('\\nElements popped from stack:')\n",
        "print(stack.pop())\n",
        "print(stack.pop())\n",
        "print(stack.pop())\n",
        "print('\\nStack after elements are popped:')\n",
        "print(stack)"
      ],
      "metadata": {
        "colab": {
          "base_uri": "https://localhost:8080/"
        },
        "id": "VoJaLRNY9gsV",
        "outputId": "5083b447-2c35-4132-97c6-ab9f0c969082"
      },
      "execution_count": 31,
      "outputs": [
        {
          "output_type": "stream",
          "name": "stdout",
          "text": [
            "Initial stack\n",
            "['a', 'b', 'c']\n",
            "\n",
            "Elements popped from stack:\n",
            "c\n",
            "b\n",
            "a\n",
            "\n",
            "Stack after elements are popped:\n",
            "[]\n"
          ]
        }
      ]
    },
    {
      "cell_type": "code",
      "source": [
        "from collections import deque\n",
        "stack = deque()\n",
        "stack.append('a')\n",
        "stack.append('b')\n",
        "stack.append('c')\n",
        "print('Initial stack:')\n",
        "print(stack)\n",
        "print('\\nElements popped from stack:')\n",
        "print(stack.pop())\n",
        "print(stack.pop())\n",
        "print(stack.pop())\n",
        "print('\\nStack after elements are popped:')\n",
        "print(stack)"
      ],
      "metadata": {
        "colab": {
          "base_uri": "https://localhost:8080/"
        },
        "id": "wHbd_R8f9kV_",
        "outputId": "4314a9ec-a9ed-4446-b8aa-944a575968d1"
      },
      "execution_count": 32,
      "outputs": [
        {
          "output_type": "stream",
          "name": "stdout",
          "text": [
            "Initial stack:\n",
            "deque(['a', 'b', 'c'])\n",
            "\n",
            "Elements popped from stack:\n",
            "c\n",
            "b\n",
            "a\n",
            "\n",
            "Stack after elements are popped:\n",
            "deque([])\n"
          ]
        }
      ]
    },
    {
      "cell_type": "code",
      "source": [
        "from queue import LifoQueue\n",
        "stack = LifoQueue(maxsize=3)\n",
        "print(stack.qsize())\n",
        "stack.put('a')\n",
        "stack.put('b')\n",
        "stack.put('c')\n",
        "print(\"Full: \", stack.full())\n",
        "print(\"Size: \", stack.qsize())\n",
        "print('\\nElements popped from the stack')\n",
        "print(stack.get())\n",
        "print(stack.get())\n",
        "print(stack.get()) \n",
        "print(\"\\nEmpty: \", stack.empty())"
      ],
      "metadata": {
        "colab": {
          "base_uri": "https://localhost:8080/"
        },
        "id": "HLjXDxyO9vxV",
        "outputId": "c8de291d-15ba-4fc0-a79e-da1732e241e3"
      },
      "execution_count": 33,
      "outputs": [
        {
          "output_type": "stream",
          "name": "stdout",
          "text": [
            "0\n",
            "Full:  True\n",
            "Size:  3\n",
            "\n",
            "Elements popped from the stack\n",
            "c\n",
            "b\n",
            "a\n",
            "\n",
            "Empty:  True\n"
          ]
        }
      ]
    },
    {
      "cell_type": "code",
      "source": [
        ""
      ],
      "metadata": {
        "id": "H5rfIj4O94p6"
      },
      "execution_count": null,
      "outputs": []
    }
  ]
}