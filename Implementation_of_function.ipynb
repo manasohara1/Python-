{
  "nbformat": 4,
  "nbformat_minor": 0,
  "metadata": {
    "colab": {
      "name": "Implementation of function.ipynb",
      "provenance": [],
      "collapsed_sections": [],
      "authorship_tag": "ABX9TyOKPL9DjU79DAoyHRTDPuP2",
      "include_colab_link": true
    },
    "kernelspec": {
      "name": "python3",
      "display_name": "Python 3"
    },
    "language_info": {
      "name": "python"
    }
  },
  "cells": [
    {
      "cell_type": "markdown",
      "metadata": {
        "id": "view-in-github",
        "colab_type": "text"
      },
      "source": [
        "<a href=\"https://colab.research.google.com/github/manasohara1/Python-/blob/main/Implementation_of_function.ipynb\" target=\"_parent\"><img src=\"https://colab.research.google.com/assets/colab-badge.svg\" alt=\"Open In Colab\"/></a>"
      ]
    },
    {
      "cell_type": "code",
      "execution_count": null,
      "metadata": {
        "id": "v3i6oiE5g50o"
      },
      "outputs": [],
      "source": [
        "# Getting input from the user\n",
        "number=int(input(\"Enter a number\"))#by the default what you input is string\n",
        "print(\"The number is \",number)\n",
        "print(type(number))\n",
        "print(11,22,23,24,25)\n",
        "print(11,22,23,24,25,sep='@', end='$')\n",
        "print()\n",
        "num1=15;num2=20\n",
        "print(\" The value of num1 is {} and num2 is {}\".format(num1,num2))\n",
        "print(\" M.Sc CS has {0} and {1} courses\".format('AI','Lab on Python'))\n",
        "print(\" M.Sc CS has {1} and {0} courses\".format('AI','Lab on Python'))\n",
        "print('Good Afternoon {ack}!! {msg}'.format(msg = 'Welcome to Lab on Python course',\n",
        "ack ='Everyone'))\n",
        "#Functions\n",
        "#simple function\n",
        "def hello():\n",
        "  print(\"Hello everyone\")\n",
        "hello()\n",
        "#function with return\n",
        "def square(num):\n",
        "  return num*num\n",
        "print(square(5))\n",
        "#function with default arguments\n",
        "def add(num1,num2=5):\n",
        "  return num1 + num2\n",
        "print(add(10,20))\n",
        "print(add(6))\n",
        "#in case you don't know the number of arguments passed\n",
        "def course(*coursenames):\n",
        "  print(\"I am studying\"+coursenames[1])\n",
        "course(\"AI\",\"Lab on Python\",\"Microservices\",\"Cloud Computing\")\n",
        "# key=value arguments\n",
        "def coursen(cn1,cn2,cn3):\n",
        "  print(\"I am studying\" + cn3)\n",
        "coursen(cn1=\"AI\",cn2=\"Lab on Python\",cn3=\"Microservices\")"
      ]
    },
    {
      "cell_type": "markdown",
      "source": [
        "1. From Learn Python in 7 days book---page no. 142 to 160—read and solve all\n",
        "examples. Write your observations"
      ],
      "metadata": {
        "id": "astO1qfG7rIS"
      }
    },
    {
      "cell_type": "code",
      "source": [
        "#1\n",
        "# Getting input from the user\n",
        "from typing import Match\n",
        "\n",
        "\n",
        "number=int(input(\"Enter a number:\"))#by the default what you input is string\n",
        "print(\"The number is \",number)\n",
        "print(type(number))\n",
        "print(11,22,23,24,25)\n",
        "print(11,22,23,24,25,sep=\"@\", end=\"$\")\n",
        "print()\n",
        "num1=15;num2=20\n",
        "print('The value of num1 is {} and num2 is {}'.format(num1,num2))\n",
        "print('M.Sc CS has {0} and {1} courses'.format('AI','Lab on Python'))\n",
        "print('M.Sc CS has {1} and {0} courses'.format('AI','Lab on Python'))\n",
        "print('Good Afternoon {ack}!! {msg}'.format(msg = 'Welcome to Lab on Python course',ack ='Everyone'))\n",
        "#Functions\n",
        "#simple function\n",
        "def hello():\n",
        "    print(\"Hello everyone\")\n",
        "hello()\n",
        "#function with return\n",
        "def square(num):\n",
        "    return num*num\n",
        "print(square(5))\n",
        "#function with default arguments\n",
        "def add(num1,num2=5):\n",
        "    return num1*num2\n",
        "print(add(10,20))\n",
        "print(add(6))\n",
        "#in case you don't know the number of arguments passed \n",
        "def course(*coursenames):\n",
        "    print(\"I am studying \"+coursenames[1])\n",
        "course(\"AI\",\"Lab on Python\",\"Microservices\",\"Cloud Computing\")\n",
        "#key=value arguments\n",
        "def coursen(cn1 , cn2 ,cn3):\n",
        "    print(\"I am studing \"+cn3)\n",
        "coursen(cn1=\"AI\",cn2=\"Lab on Python\",cn3=\"Microservices\")\n",
        "\n",
        "#1\n",
        "# Calling a function\n",
        "def helloWorld():\n",
        "    \"\"\"This is Hello World Program\"\"\"\n",
        "    print(\"You are in Hello World\")\n",
        "helloWorld()\n",
        "# Function with arguments\n",
        "def func(passArgument):\n",
        "    print(passArgument)\n",
        "str=\"hello all\"\n",
        "func(str)\n",
        "# Function with an argument and return type\n",
        "def sum(a,b):\n",
        "    c=a+b\n",
        "    return c\n",
        "x=10\n",
        "y=50\n",
        "print(\"Result of addition \",sum(x,y))\n",
        "\n",
        "def info(name, age=50):\n",
        "    print(\"Name\", name)\n",
        "    print(\"age\", age)\n",
        "info(\"John\",age=28)\n",
        "info(\"James\")\n",
        "\n",
        "# Function with variable length argument\n",
        "def variable_argument( var1, *vari):\n",
        "    print(\"Out-put is\",var1)\n",
        "    for var in vari:\n",
        "        print(var)\n",
        "variable_argument(60)\n",
        "variable_argument(100,90,40,50,60)\n",
        "\n",
        "# Key-value pair as variable length argument\n",
        "def infocity(**var):\n",
        "    print(var)\n",
        "    for key, value in var.items():\n",
        "        print (\"%s == %s\" %(key,value))\n",
        "infocity(name=\"l4w\", age = 20, city=\"Los Angeles\")\n",
        "infocity(name=\"John\",age=45, city=\"London\", sex=\"male\", medals=0)\n",
        "\n",
        "# Pass by reference versus pass by value\n",
        "def pass_ref(list1):\n",
        "    list1.extend([23,89])\n",
        "    print(\"list inside the function: \",list1)\n",
        "list1 = [12,67,90]\n",
        "print(\"list before pass\", list1)\n",
        "pass_ref(list1)\n",
        "print(\"list outside the function\", list1)\n",
        "\n",
        "#Lets look at another scenario:\n",
        "def func(a):\n",
        "    a=a+4\n",
        "    print(\"Inside the function\", a)\n",
        "a= 10\n",
        "func(a)\n",
        "print (\"Outside the function\", a)\n",
        "\n",
        "# Scope of variables\n",
        "def func():\n",
        "    a =12\n",
        "print('''Inside the function the value of\n",
        "a is acting as local variable''', a)\n",
        "a= 10\n",
        "func()\n",
        "print('''Outside function the value of a is\n",
        "acting as global variable''',a)\n",
        "#Another situation\n",
        "def func():\n",
        "    a =12\n",
        "print(\"a inside the function is the local variable\",a)\n",
        "func()\n",
        "print(\"Trying to access the local variable outside the function.\",a)\n",
        "#Another situation\n",
        "def func():\n",
        "    global k\n",
        "    k=k+7\n",
        "    print(\"variable k is now global\",k)\n",
        "k=10\n",
        "func()\n",
        "print(\"Accessing the value of k outside the function\",k)"
      ],
      "metadata": {
        "colab": {
          "base_uri": "https://localhost:8080/"
        },
        "id": "EJUEp4z46a-D",
        "outputId": "d43a67bf-f42c-4bcd-96d8-88627ae421d5"
      },
      "execution_count": 57,
      "outputs": [
        {
          "output_type": "stream",
          "name": "stdout",
          "text": [
            "Enter a number:3\n",
            "The number is  3\n",
            "<class 'int'>\n",
            "11 22 23 24 25\n",
            "11@22@23@24@25$\n",
            "The value of num1 is 15 and num2 is 20\n",
            "M.Sc CS has AI and Lab on Python courses\n",
            "M.Sc CS has Lab on Python and AI courses\n",
            "Good Afternoon Everyone!! Welcome to Lab on Python course\n",
            "Hello everyone\n",
            "25\n",
            "200\n",
            "30\n",
            "I am studying Lab on Python\n",
            "I am studing Microservices\n",
            "You are in Hello World\n",
            "hello all\n",
            "Result of addition  60\n",
            "Name John\n",
            "age 28\n",
            "Name James\n",
            "age 50\n",
            "Out-put is 60\n",
            "Out-put is 100\n",
            "90\n",
            "40\n",
            "50\n",
            "60\n",
            "{'name': 'l4w', 'age': 20, 'city': 'Los Angeles'}\n",
            "name == l4w\n",
            "age == 20\n",
            "city == Los Angeles\n",
            "{'name': 'John', 'age': 45, 'city': 'London', 'sex': 'male', 'medals': 0}\n",
            "name == John\n",
            "age == 45\n",
            "city == London\n",
            "sex == male\n",
            "medals == 0\n",
            "list before pass [12, 67, 90]\n",
            "list inside the function:  [12, 67, 90, 23, 89]\n",
            "list outside the function [12, 67, 90, 23, 89]\n",
            "Inside the function 14\n",
            "Outside the function 10\n",
            "Inside the function the value of\n",
            "a is acting as local variable 10\n",
            "Outside function the value of a is\n",
            "acting as global variable 10\n",
            "a inside the function is the local variable 10\n",
            "Trying to access the local variable outside the function. 10\n",
            "variable k is now global 17\n",
            "Accessing the value of k outside the function 17\n"
          ]
        }
      ]
    },
    {
      "cell_type": "markdown",
      "source": [
        "2. From Think Python book----page no.17 to 26 solve examples. Also solve\n",
        "exercise 3.3, 3.4 and 3.5 including all sub exercises."
      ],
      "metadata": {
        "id": "ZpzBwNeS7vCF"
      }
    },
    {
      "cell_type": "code",
      "source": [
        "# Q 2\n",
        "\n",
        "#Function calls\n",
        "print(type(32))\n",
        "#Type conversion functions\n",
        "print(int('32'))\n",
        "#print(int('Hello'))\n",
        "print(int(3.99999))\n",
        "print(int(-2.3))\n",
        "print(float(32))\n",
        "#Math functions\n",
        "import math\n",
        "print(math)\n",
        "signal_power=1\n",
        "noise_power=10\n",
        "ratio = signal_power / noise_power\n",
        "decibels = 10 * math.log10(ratio)\n",
        "radians = 0.7\n",
        "height = math.sin(radians)\n",
        "degrees = 45\n",
        "radians = degrees / 360.0 * 2 * math.pi\n",
        "math.sin(radians)\n",
        "#Composition\n",
        "#Adding new functions\n",
        "def print_lyrics():\n",
        "  print (\"I'm a lumberjack, and I'm okay.\")\n",
        " \n",
        "print (\"I sleep all night and I work all day.\")\n",
        "print_lyrics()\n",
        "\n",
        "def repeat_lyrics():\n",
        " print_lyrics()\n",
        " print_lyrics()\n",
        "repeat_lyrics()\n",
        "#Definitions and uses\n",
        "def print_lyrics():\n",
        " print(\"I'm a lumberjack, and I'm okay.\")\n",
        " print(\"I sleep all night and I work all day.\")\n",
        "\n",
        "def repeat_lyrics():\n",
        " print_lyrics()\n",
        " print_lyrics()\n",
        "\n",
        "repeat_lyrics()\n",
        "#Parameters and arguments\n",
        "def print_twice(bruce):\n",
        " print(bruce)\n",
        " print(bruce)\n",
        "print_twice('Spam')\n",
        "print_twice(17)\n",
        "print_twice(math.pi)\n",
        "print_twice('Spam '*4)\n",
        "print_twice(math.cos(math.pi))\n",
        "\n",
        "#Variables and parameters are local\n",
        "def cat_twice(part1, part2):\n",
        "  cat = part1 + part2\n",
        "  print_twice(cat)\n",
        "line1 = 'Bing tiddle '\n",
        "line2 = 'tiddle bang.'\n",
        "cat_twice(line1, line2)\n",
        "\n",
        "math.sqrt(5)\n",
        "result = print_twice('Bing')\n",
        "#3.3\n",
        "def right_justify(s):\n",
        "    print(' ' * (70-len(s))+s)\n",
        "    \n",
        "right_justify('allen')\n",
        "\n",
        "#3.4\n",
        "def do_twice(f):\n",
        "  f()\n",
        "  f()\n",
        "  \n",
        "# Here's an example that uses do_twice to call a function named print_spam twice.\n",
        "\n",
        "def print_spam():\n",
        "  print('spam')\n",
        "  \n",
        "do_twice(print_spam)\n",
        "\n",
        "print(\"\\n\")\n",
        "\n",
        "# 2 Modify do_twice so that it takes two arguments, a function object and a value, and calls the function twice, passing the value as an argument.\n",
        "\n",
        "def do_twice(f, num):\n",
        "  f(num)\n",
        "  f(num)\n",
        "  \n",
        "#3 Write a more general version of print_spam, called print_twice, that takes a string as a parameter and prints it twice.\n",
        "\n",
        "def print_twice(spam):\n",
        "  print(spam)\n",
        "  print(spam)\n",
        "\n",
        "  # 4 Use the modified version of do_twice to call print_twice twice, passing 'spam' as an argument.\n",
        "\n",
        "do_twice(print_twice, 'spam')\n",
        "\n",
        "print(\"\\n\")\n",
        "\n",
        "#5 Define a new function called do_four that takes a function object and a value and calls the function four times, passing the value as a parameter. There should be only two statements in the body of this function, not four.\n",
        "\n",
        "def do_four(f, num):\n",
        "  print(do_twice(f, num))\n",
        "  print(do_twice(f, num))\n",
        "  \n",
        "do_four(print_twice, 'spam')\n",
        "\n",
        "#3.5\n",
        "# row:   +----+----+\n",
        "half_row = ('+' + ('-' * 4))\n",
        "row = half_row * 2\n",
        "\n",
        "# bar lines:    |    |    |     (repeated for 4 lines)\n",
        "def column_4times(column):\n",
        "    print(column)\n",
        "    print(column)\n",
        "    print(column)\n",
        "    print(column)  \n",
        "    \n",
        "half_column = ('|' + ' ' * 4)\n",
        "column = (half_column * 2 + '|')\n",
        "\n",
        "print(row + '+')\n",
        "print(column_4times(column))\n",
        "print(row + '+')\n",
        "print(column_4times(column))\n",
        "print(row + '+')"
      ],
      "metadata": {
        "colab": {
          "base_uri": "https://localhost:8080/"
        },
        "id": "BW06hYRd7iyJ",
        "outputId": "90d13334-d7c8-4bc9-d84d-dfe69da52306"
      },
      "execution_count": 58,
      "outputs": [
        {
          "output_type": "stream",
          "name": "stdout",
          "text": [
            "<class 'int'>\n",
            "32\n",
            "3\n",
            "-2\n",
            "32.0\n",
            "<module 'math' (built-in)>\n",
            "I sleep all night and I work all day.\n",
            "I'm a lumberjack, and I'm okay.\n",
            "I'm a lumberjack, and I'm okay.\n",
            "I'm a lumberjack, and I'm okay.\n",
            "I'm a lumberjack, and I'm okay.\n",
            "I sleep all night and I work all day.\n",
            "I'm a lumberjack, and I'm okay.\n",
            "I sleep all night and I work all day.\n",
            "Spam\n",
            "Spam\n",
            "17\n",
            "17\n",
            "3.141592653589793\n",
            "3.141592653589793\n",
            "Spam Spam Spam Spam \n",
            "Spam Spam Spam Spam \n",
            "-1.0\n",
            "-1.0\n",
            "Bing tiddle tiddle bang.\n",
            "Bing tiddle tiddle bang.\n",
            "Bing\n",
            "Bing\n",
            "                                                                 allen\n",
            "spam\n",
            "spam\n",
            "\n",
            "\n",
            "spam\n",
            "spam\n",
            "spam\n",
            "spam\n",
            "\n",
            "\n",
            "spam\n",
            "spam\n",
            "spam\n",
            "spam\n",
            "None\n",
            "spam\n",
            "spam\n",
            "spam\n",
            "spam\n",
            "None\n",
            "+----+----+\n",
            "|    |    |\n",
            "|    |    |\n",
            "|    |    |\n",
            "|    |    |\n",
            "None\n",
            "+----+----+\n",
            "|    |    |\n",
            "|    |    |\n",
            "|    |    |\n",
            "|    |    |\n",
            "None\n",
            "+----+----+\n"
          ]
        }
      ]
    },
    {
      "cell_type": "markdown",
      "source": [
        "3. Write user defined function to display LCM of a given number"
      ],
      "metadata": {
        "id": "YiHQdz5ghW7e"
      }
    },
    {
      "cell_type": "code",
      "source": [
        "def calc_lcm(x, y):\n",
        "\n",
        "   \n",
        "   if x > y: #num1 is greater than num2\n",
        "       greater = x #num1 as a greater\n",
        "   else:\n",
        "       greater = y #num2 is greater\n",
        "\n",
        "   while(True):\n",
        "       if((greater % x == 0) and (greater % y == 0)): #if selected num is =greater assign to lcm\n",
        "           lcm = greater\n",
        "           break\n",
        "       greater += 1 #increment greater\n",
        "\n",
        "   return lcm\n",
        "\n",
        "num1 = 10\n",
        "num2 = 2\n",
        "\n",
        "print(\"The L.C.M. is\", calc_lcm(num1, num2))"
      ],
      "metadata": {
        "colab": {
          "base_uri": "https://localhost:8080/"
        },
        "id": "R1_gZ00DhVop",
        "outputId": "e9cd7be5-0ca5-437e-e9ff-32916d8f88a1"
      },
      "execution_count": null,
      "outputs": [
        {
          "output_type": "stream",
          "name": "stdout",
          "text": [
            "The L.C.M. is 10\n"
          ]
        }
      ]
    },
    {
      "cell_type": "markdown",
      "source": [
        "4. Write user defined function to convert and display Decimal to Binary"
      ],
      "metadata": {
        "id": "Y0Tk4gaVhV6U"
      }
    },
    {
      "cell_type": "code",
      "source": [
        "def DecimalToBinary(num):\n",
        "     \n",
        "    if num >= 1:\n",
        "        DecimalToBinary(num // 2)\n",
        "    print(num % 2, end = '')\n",
        "dec_val = 73\n",
        "DecimalToBinary(dec_val)"
      ],
      "metadata": {
        "colab": {
          "base_uri": "https://localhost:8080/"
        },
        "id": "z-7BmuIAiMZs",
        "outputId": "519b460c-db9a-4c1d-9da5-ad9fb2666275"
      },
      "execution_count": null,
      "outputs": [
        {
          "output_type": "stream",
          "name": "stdout",
          "text": [
            "01001001"
          ]
        }
      ]
    },
    {
      "cell_type": "markdown",
      "source": [
        "5. Write user defined function to convert and display Binary to Decimal"
      ],
      "metadata": {
        "id": "xqtUDkTqimW3"
      }
    },
    {
      "cell_type": "code",
      "source": [
        "def binaryToDecimal(n):\n",
        "    num = n;\n",
        "    dec_value = 0;\n",
        "    base = 1;\n",
        "    temp = num;\n",
        "    while(temp):\n",
        "        last_digit = temp % 10;\n",
        "        temp = int(temp / 10);\n",
        "        dec_value += last_digit * base;\n",
        "        base = base * 2;\n",
        "    return dec_value;\n",
        "num = 10101001;\n",
        "print(binaryToDecimal(num));"
      ],
      "metadata": {
        "colab": {
          "base_uri": "https://localhost:8080/"
        },
        "id": "_RWPoTfFiUXN",
        "outputId": "7ab9acea-0d26-47b6-c3e7-1eaa47e5bcc6"
      },
      "execution_count": null,
      "outputs": [
        {
          "output_type": "stream",
          "name": "stdout",
          "text": [
            "169\n"
          ]
        }
      ]
    },
    {
      "cell_type": "markdown",
      "source": [
        "6. Write user defined function to convert and display Decimal to Octal"
      ],
      "metadata": {
        "id": "YBQRQp-B0gla"
      }
    },
    {
      "cell_type": "code",
      "source": [
        "def decToOctal(n):\n",
        " \n",
        "   \n",
        "    octalNum = [0] * 100\n",
        " \n",
        "    \n",
        "    i = 0\n",
        "    while (n != 0):\n",
        " \n",
        "        \n",
        "        octalNum[i] = n % 8\n",
        "        n = int(n / 8)\n",
        "        i += 1\n",
        " \n",
        "    \n",
        "    for j in range(i - 1, -1, -1):\n",
        "        print(octalNum[j], end=\"\")\n",
        " \n",
        " \n",
        "\n",
        "n = 33\n",
        " \n",
        "\n",
        "decToOctal(n)\n",
        " \n"
      ],
      "metadata": {
        "colab": {
          "base_uri": "https://localhost:8080/"
        },
        "id": "sNhAJYJn0h7N",
        "outputId": "e06fce28-18a5-4ba1-9e8f-fe56173c6757"
      },
      "execution_count": 54,
      "outputs": [
        {
          "output_type": "stream",
          "name": "stdout",
          "text": [
            "41"
          ]
        }
      ]
    },
    {
      "cell_type": "markdown",
      "source": [
        "7. Write user defined function to convert and display Decimal to Hexadecimal"
      ],
      "metadata": {
        "id": "JLvVz4b70wIc"
      }
    },
    {
      "cell_type": "code",
      "source": [
        "def decToHexa(n):\n",
        " \n",
        "    \n",
        "    hexaDeciNum = ['0'] * 100\n",
        " \n",
        "    \n",
        "    i = 0\n",
        "    while(n != 0):\n",
        " \n",
        "        \n",
        "        temp = 0\n",
        " \n",
        "        \n",
        "        temp = n % 16\n",
        " \n",
        "       \n",
        "        if(temp < 10):\n",
        "            hexaDeciNum[i] = chr(temp + 48)\n",
        "            i = i + 1\n",
        "        else:\n",
        "            hexaDeciNum[i] = chr(temp + 55)\n",
        "            i = i + 1\n",
        "        n = int(n / 16)\n",
        " \n",
        "   \n",
        "    j = i - 1\n",
        "    while(j >= 0):\n",
        "        print((hexaDeciNum[j]), end=\"\")\n",
        "        j = j - 1\n",
        " \n",
        " \n",
        "\n",
        "n = 2545\n",
        "decToHexa(n)\n",
        " \n"
      ],
      "metadata": {
        "colab": {
          "base_uri": "https://localhost:8080/"
        },
        "id": "yphg9aU30127",
        "outputId": "c7c4f0db-6e04-408f-8d80-2e100a07e23c"
      },
      "execution_count": 56,
      "outputs": [
        {
          "output_type": "stream",
          "name": "stdout",
          "text": [
            "9F1"
          ]
        }
      ]
    },
    {
      "cell_type": "markdown",
      "source": [
        "8. Write user defined function to display factorial of a number"
      ],
      "metadata": {
        "id": "-Cy9UUQJlG-o"
      }
    },
    {
      "cell_type": "code",
      "source": [
        "def fact(num):\n",
        "  fact = 1\n",
        "  for i in range(1, number + 1):\n",
        "    fact = fact * i\n",
        "  print(\"The factorial of %d  = %d\" %(number, fact))\n",
        "number = int(input(\" Please enter any Number to find factorial : \"))\n",
        "fact(number)\n"
      ],
      "metadata": {
        "id": "fDsUISBwi5kU",
        "colab": {
          "base_uri": "https://localhost:8080/"
        },
        "outputId": "6771fb8a-033a-4e04-86ab-0e2abaa116ec"
      },
      "execution_count": null,
      "outputs": [
        {
          "output_type": "stream",
          "name": "stdout",
          "text": [
            " Please enter any Number to find factorial : 5\n",
            "The factorial of 5  = 120\n"
          ]
        }
      ]
    },
    {
      "cell_type": "markdown",
      "source": [
        "9. Write recursive function to display factorial of a number"
      ],
      "metadata": {
        "id": "RvCa5h3k1waZ"
      }
    },
    {
      "cell_type": "code",
      "source": [
        "def factorial(num):\n",
        "    if((num == 0) or (num == 1)):\n",
        "        return 1\n",
        "    else:\n",
        "        return num * factorial(num - 1)\n",
        "\n",
        "\n",
        "number = int(input(\" Please enter any Number to find factorial : \"))\n",
        "\n",
        "fact = factorial(number)\n",
        "print(\"The factorial of %d  = %d\" %(number, fact))"
      ],
      "metadata": {
        "colab": {
          "base_uri": "https://localhost:8080/"
        },
        "id": "qm6GzfFqltLp",
        "outputId": "9d970907-9caf-4441-dfed-0165c8a43a8c"
      },
      "execution_count": null,
      "outputs": [
        {
          "output_type": "stream",
          "name": "stdout",
          "text": [
            " Please enter any Number to find factorial : 10\n",
            "The factorial of 10  = 3628800\n"
          ]
        }
      ]
    },
    {
      "cell_type": "markdown",
      "source": [
        "10. Write user defined function to implement bubble sort."
      ],
      "metadata": {
        "id": "0bGowrVo2282"
      }
    },
    {
      "cell_type": "code",
      "source": [
        "\n",
        "def bubble_sort():\n",
        "  a = []\n",
        "  number = int(input(\"Please Enter the Total Number of Elements : \"))\n",
        "  for i in range(number):\n",
        "    value = int(input(\"Please enter the %d Element of List1 : \" %i))\n",
        "    a.append(value)\n",
        "  for i in range(number -1):\n",
        "    for j in range(number - i - 1):\n",
        "        if(a[j] > a[j + 1]):\n",
        "             temp = a[j]\n",
        "             a[j] = a[j + 1]\n",
        "             a[j + 1] = temp\n",
        "\n",
        "  print(\"The Sorted List in Ascending Order : \", a)\n",
        "bubble_sort()"
      ],
      "metadata": {
        "colab": {
          "base_uri": "https://localhost:8080/"
        },
        "id": "jydty_SrmU_l",
        "outputId": "cb0e97c8-2ddf-4cdf-df98-1b2981af876c"
      },
      "execution_count": 52,
      "outputs": [
        {
          "output_type": "stream",
          "name": "stdout",
          "text": [
            "Please Enter the Total Number of Elements : 3\n",
            "Please enter the 0 Element of List1 : 13\n",
            "Please enter the 1 Element of List1 : 77\n",
            "Please enter the 2 Element of List1 : 90\n",
            "The Sorted List in Ascending Order :  [13, 77, 90]\n"
          ]
        }
      ]
    },
    {
      "cell_type": "markdown",
      "source": [
        "12. Write user defined function to display reverse of a number"
      ],
      "metadata": {
        "id": "Fo7UwUirwwqK"
      }
    },
    {
      "cell_type": "code",
      "source": [
        "def rev_number(Number):\n",
        "  Reverse = 0\n",
        "  while(Number > 0):\n",
        "    Reminder = Number %10\n",
        "    Reverse = (Reverse *10) + Reminder\n",
        "    Number = Number //10\n",
        "  print(\"\\n Reverse of entered number is = %d\" %Reverse)\n",
        "Number = int(input(\"Please Enter any Number: \"))\n",
        "rev_number(Number)"
      ],
      "metadata": {
        "id": "PcBrTXx3mzWS",
        "colab": {
          "base_uri": "https://localhost:8080/"
        },
        "outputId": "7762cc05-f0bb-4232-9d15-699eda46e2c3"
      },
      "execution_count": 36,
      "outputs": [
        {
          "output_type": "stream",
          "name": "stdout",
          "text": [
            "Please Enter any Number: 89\n",
            "\n",
            " Reverse of entered number is = 98\n"
          ]
        }
      ]
    },
    {
      "cell_type": "markdown",
      "source": [
        "11. Write user defined function to display palindrome of a number"
      ],
      "metadata": {
        "id": "TzekgzRsxJl1"
      }
    },
    {
      "cell_type": "code",
      "source": [
        "def pallindrome_number(Number):\n",
        "  original_number=Number\n",
        "  Reverse = 0\n",
        "  while(Number > 0):\n",
        "    Reminder = Number %10\n",
        "    Reverse = (Reverse *10) + Reminder\n",
        "    Number = Number //10\n",
        "  print(\"\\n Reverse of entered number is = %d\" %Reverse)\n",
        "  if(Reverse==original_number):\n",
        "    print(\"Pallindrome number !!\")\n",
        "  else:\n",
        "    print(\"Not a pallindrome number :<( \")\n",
        "Number = int(input(\"Please Enter any Number: \"))\n",
        "rev_number(Number)"
      ],
      "metadata": {
        "colab": {
          "base_uri": "https://localhost:8080/"
        },
        "id": "VtXV5-Dqw2Ea",
        "outputId": "727018af-4640-4834-992d-a2cfd9e04420"
      },
      "execution_count": 43,
      "outputs": [
        {
          "output_type": "stream",
          "name": "stdout",
          "text": [
            "Please Enter any Number: 11\n",
            "\n",
            " Reverse of entered number is = 11\n",
            "Pallindrome number !!\n"
          ]
        }
      ]
    },
    {
      "cell_type": "markdown",
      "source": [
        "13. Write function which can print a dictionary where the keys are numbers\n",
        "between 1 and 30 (both included) and the values are square of keys."
      ],
      "metadata": {
        "id": "bwZOc-B7275T"
      }
    },
    {
      "cell_type": "code",
      "source": [
        "def dict_cal():\n",
        "  d=dict()\n",
        "  for x in range(1,31):\n",
        "    d[x]=x**2\n",
        "  print(d,sep=\"\\n\\n\")\n",
        "dict_cal()"
      ],
      "metadata": {
        "colab": {
          "base_uri": "https://localhost:8080/"
        },
        "id": "zoAWuDyCx2Xn",
        "outputId": "42b5446b-b26e-41f7-9a4b-b17a6718510d"
      },
      "execution_count": 49,
      "outputs": [
        {
          "output_type": "stream",
          "name": "stdout",
          "text": [
            "{1: 1, 2: 4, 3: 9, 4: 16, 5: 25, 6: 36, 7: 49, 8: 64, 9: 81, 10: 100, 11: 121, 12: 144, 13: 169, 14: 196, 15: 225, 16: 256, 17: 289, 18: 324, 19: 361, 20: 400, 21: 441, 22: 484, 23: 529, 24: 576, 25: 625, 26: 676, 27: 729, 28: 784, 29: 841, 30: 900}\n"
          ]
        }
      ]
    },
    {
      "cell_type": "code",
      "source": [
        ""
      ],
      "metadata": {
        "id": "BIuMfs17yIXG"
      },
      "execution_count": null,
      "outputs": []
    }
  ]
}