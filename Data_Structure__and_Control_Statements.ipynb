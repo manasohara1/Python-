{
  "cells": [
    {
      "cell_type": "markdown",
      "metadata": {
        "id": "view-in-github",
        "colab_type": "text"
      },
      "source": [
        "<a href=\"https://colab.research.google.com/github/manasohara1/Python-/blob/main/Data_Structure__and_Control_Statements.ipynb\" target=\"_parent\"><img src=\"https://colab.research.google.com/assets/colab-badge.svg\" alt=\"Open In Colab\"/></a>"
      ]
    },
    {
      "cell_type": "markdown",
      "metadata": {
        "id": "elXdA9fHlwDT"
      },
      "source": [
        "#### **Tuple**\n",
        "### A Tuple is similar to that of list with the differenece that , we can't change elements of a tuple once it's assigned\n",
        "### A  Tuple i scretaed by using rounded paranthesis() seperating the elements with ,\n",
        "### it can store any type of data\n",
        "### For e.g, "
      ]
    },
    {
      "cell_type": "code",
      "execution_count": null,
      "metadata": {
        "colab": {
          "base_uri": "https://localhost:8080/"
        },
        "id": "WgF7wzP_fbBv",
        "outputId": "ed3ca1e2-8a66-4468-a225-2e0feee47fc7"
      },
      "outputs": [
        {
          "name": "stdout",
          "output_type": "stream",
          "text": [
            "(1, 2, 3, 4)\n",
            "(1, 2, 3, 4, 5, 'manas', 6.9)\n",
            "1\n",
            "2\n",
            "3\n",
            "4\n",
            "5\n",
            "manas\n",
            "6.9\n",
            "1\n",
            "(1, 2, 3, 4, 5, 'manas', 6.9)\n",
            "s\n",
            "(1, 2, 3, 4, 5, 'manas', 6.9, 23, 24)\n"
          ]
        }
      ],
      "source": [
        "tuple_ds=()\n",
        "type(tuple_ds)\n",
        "tuple_ds=(1,2,3,4)\n",
        "print(tuple_ds)\n",
        "#Accessing tuple\n",
        "tuple_ds=(1,2,3,4,5,'manas',6.9)\n",
        "print(tuple_ds)\n",
        "for t in tuple_ds:\n",
        "  print(t)\n",
        "print(tuple_ds[0])\n",
        "print(tuple_ds[:])\n",
        "print(tuple_ds[5][4])\n",
        "tuple_ds=tuple_ds+(23,24)\n",
        "print(tuple_ds)\n",
        "nesttuple=(12,14,15,[50,80,70],'Good afternoon')\n",
        "nesttuple\n",
        "nesttuple[3][1]=100\n",
        "deltuple=(1,2,3,4,5)\n",
        "del deltuple\n",
        "#print(deltuple)"
      ]
    },
    {
      "cell_type": "markdown",
      "metadata": {
        "id": "uCkQCmzllVRd"
      },
      "source": [
        "##**Dictionary**\n",
        "## A Dictionary is created by using curly brackets{} it consisits of key value pair it is an unordered collection of items. The values can be any data type and can repeat. However, keys must be of immutable type and must be unique\n",
        "##For e.g,"
      ]
    },
    {
      "cell_type": "code",
      "execution_count": null,
      "metadata": {
        "colab": {
          "base_uri": "https://localhost:8080/"
        },
        "id": "cWTxZw3Zfqae",
        "outputId": "2fb41e8c-e0e3-4a7d-b57b-320202b31f56"
      },
      "outputs": [
        {
          "name": "stdout",
          "output_type": "stream",
          "text": [
            "{}\n",
            "{1: 'India', 2: 'Russia', 3: 'Korea', 4: 'Japan', 5: 'Canada'}\n",
            "After Chnaging value : {1: 'India', 2: 'Russia', 3: 'DMK', 4: 'Japan', 5: 'Canada'}\n",
            "Z650\n",
            "ndict {}\n"
          ]
        }
      ],
      "source": [
        "dict1={}\n",
        "print(dict1)\n",
        "dict1={1:\"India\",2:\"Russia\",3:\"Korea\",4:\"Japan\",5:\"Canada\"}\n",
        "print(dict1)\n",
        "dict1[3]='DMK'\n",
        "print(\"After Chnaging value : \"+str(dict1))\n",
        "dict1.keys()\n",
        "dict1.values()\n",
        "#Accessing\n",
        "dict2={'Kawasaki':'Z650','RE':'INT650','Ducati':'PanigaleV4'}\n",
        "print(dict2['Kawasaki'])\n",
        "dict2.items()\n",
        "#Deeleting\n",
        "popedvalue=dict1.pop(5)\n",
        "popedvalue\n",
        "popkeyalue=dict1.popitem()\n",
        "popkeyalue\n",
        "dict1.clear()\n",
        "print('ndict',dict1)"
      ]
    },
    {
      "cell_type": "markdown",
      "metadata": {
        "id": "k6iaWECppc0a"
      },
      "source": [
        "## **Set:**\n",
        "     \n",
        "####    A Set is immutable . It's a unique collection of elements. However, as a whole set is mutable that is we can add and remove elements. There're two ways of creating sets by using {} and by using set() function.\n",
        "\n",
        "#### For e.g,"
      ]
    },
    {
      "cell_type": "code",
      "execution_count": null,
      "metadata": {
        "colab": {
          "base_uri": "https://localhost:8080/"
        },
        "id": "jjI6o7t9hwTO",
        "outputId": "fee59590-a607-4e11-ae16-5bb16dda9d1c"
      },
      "outputs": [
        {
          "name": "stdout",
          "output_type": "stream",
          "text": [
            "After removing element from set \n",
            " Updated set is : \t {1, 2, 3, 4, 6}\n",
            "Set1 : {2, 4, 6, 8, 10, 12, 14, 16, 18, 20, 22, 24, 26, 28, 30, 32, 34, 36, 38, 40, 42}\n",
            "Set2 : {1, 2, 3, 4, 5, 6, 7, 8, 9, 10, 11, 12, 13, 14, 15, 16, 17, 18, 19, 20, 21, 22, 23, 24, 25, 26, 27, 28, 29, 30, 31, 32, 33, 34, 35, 36, 37, 38, 39, 40, 41, 42, 43, 44, 45, 46, 47, 48, 49, 50}\n",
            "Union of set1 & set2 : {1, 2, 3, 4, 5, 6, 7, 8, 9, 10, 11, 12, 13, 14, 15, 16, 17, 18, 19, 20, 21, 22, 23, 24, 25, 26, 27, 28, 29, 30, 31, 32, 33, 34, 35, 36, 37, 38, 39, 40, 41, 42, 43, 44, 45, 46, 47, 48, 49, 50}\n",
            "Intersection of set1 & set2 : {2, 4, 6, 8, 10, 12, 14, 16, 18, 20, 22, 24, 26, 28, 30, 32, 34, 36, 38, 40, 42}\n"
          ]
        }
      ],
      "source": [
        "set1={1,2,3,4,5,6,6}\n",
        "set1\n",
        "type(set1)\n",
        "set2={i for i in range(1,11)} #comprehension\n",
        "set2\n",
        "set1.remove(5)\n",
        "print(\"After removing element from set \\n Updated set is : \\t \"+str(set1))\n",
        "#Operations\n",
        "set1={i for i in range(1,43) if i%2==0}\n",
        "set2={i for i in range(1,51)}\n",
        "print(\"Set1 : \"+str(set1))\n",
        "print(\"Set2 : \"+str(set2))\n",
        "print(\"Union of set1 & set2 : \"+str(set1.union(set2)))\n",
        "print(\"Intersection of set1 & set2 : \"+str(set1.intersection(set2)))"
      ]
    },
    {
      "cell_type": "markdown",
      "metadata": {
        "id": "Vc4GPNnmun4c"
      },
      "source": [
        ""
      ]
    },
    {
      "cell_type": "code",
      "execution_count": null,
      "metadata": {
        "id": "mP95DRGMunC8"
      },
      "outputs": [],
      "source": [
        ""
      ]
    },
    {
      "cell_type": "markdown",
      "metadata": {
        "id": "ByjsrK-1uNlq"
      },
      "source": [
        "## **LAB-ON-PYTHON-AI-3-8-12-2021**\n",
        "### **Tuple**\n",
        "####1. From Learn Python in 7 days--- from pages 70 to 77, from pages 102 to 118 solve the examples"
      ]
    },
    {
      "cell_type": "code",
      "execution_count": null,
      "metadata": {
        "colab": {
          "base_uri": "https://localhost:8080/"
        },
        "id": "QQ9Pj4KujGji",
        "outputId": "5aaa7754-80c9-4ea2-de6f-1a88720e1a19"
      },
      "outputs": [
        {
          "name": "stdout",
          "output_type": "stream",
          "text": [
            "1 2 3\n",
            "('M', 'a', 'n', 'a', 's')\n"
          ]
        },
        {
          "data": {
            "text/plain": [
              "(1, 2, 3, 4, 5, 6, 4, 5, 6, 8, 10)"
            ]
          },
          "execution_count": 80,
          "metadata": {},
          "output_type": "execute_result"
        }
      ],
      "source": [
        "avnegers=('Ironman','Thor','Hulk','Captain America','Spiderman')\n",
        "avnegers[1:4]\n",
        "#Unpacking\n",
        "tup1=(1,2,3)\n",
        "a,b,c=tup1\n",
        "print(a,b,c)\n",
        "len(avnegers)\n",
        "t1=(76,78,90,56,55)\n",
        "max(t1)\n",
        "min(t1)\n",
        "str1=\"Manas\"\n",
        "print(tuple(str1))\n",
        "del tup1\n",
        "t1=(1,2,3,4,5,6)\n",
        "t2=(4,5,6,8,10)\n",
        "t1+t2"
      ]
    },
    {
      "cell_type": "markdown",
      "metadata": {
        "id": "mf0fIvDAwWla"
      },
      "source": [
        "##  **Dictionary**"
      ]
    },
    {
      "cell_type": "code",
      "execution_count": null,
      "metadata": {
        "colab": {
          "base_uri": "https://localhost:8080/",
          "height": 320
        },
        "id": "sieV1YhOut21",
        "outputId": "31502d87-dad9-4028-bc6a-317f1566f23c"
      },
      "outputs": [
        {
          "name": "stdout",
          "output_type": "stream",
          "text": [
            "3\n",
            "{80: 'HTTP', 443: 'HTTPS', 110: 'POP'}\n",
            "443\n",
            "80\n",
            "Enter key1\n",
            "NO\n"
          ]
        },
        {
          "ename": "AttributeError",
          "evalue": "ignored",
          "output_type": "error",
          "traceback": [
            "\u001b[0;31m---------------------------------------------------------------------------\u001b[0m",
            "\u001b[0;31mAttributeError\u001b[0m                            Traceback (most recent call last)",
            "\u001b[0;32m<ipython-input-98-7d5d1008b1e7>\u001b[0m in \u001b[0;36m<module>\u001b[0;34m()\u001b[0m\n\u001b[1;32m     24\u001b[0m }\n\u001b[1;32m     25\u001b[0m \u001b[0mCountry\u001b[0m\u001b[0;34m.\u001b[0m\u001b[0mget\u001b[0m\u001b[0;34m(\u001b[0m\u001b[0;36m1\u001b[0m\u001b[0;34m)\u001b[0m\u001b[0;34m\u001b[0m\u001b[0;34m\u001b[0m\u001b[0m\n\u001b[0;32m---> 26\u001b[0;31m \u001b[0mPort1\u001b[0m\u001b[0;34m.\u001b[0m\u001b[0mhas_key\u001b[0m\u001b[0;34m(\u001b[0m\u001b[0;36m23\u001b[0m\u001b[0;34m)\u001b[0m\u001b[0;34m\u001b[0m\u001b[0;34m\u001b[0m\u001b[0m\n\u001b[0m",
            "\u001b[0;31mAttributeError\u001b[0m: 'dict' object has no attribute 'has_key'"
          ]
        }
      ],
      "source": [
        "Port = {80: \"HTTP\", 23 : \"Telnet\", 443 : \"HTTPS\"}\n",
        "Port[80]\n",
        "del Port[23]\n",
        "Port\n",
        "Port[110]='POP'\n",
        "Port\n",
        "print(len(Port))\n",
        "print(str(Port))\n",
        "print(max(Port))\n",
        "print(min(Port))\n",
        "key=int(input(\"Enter key\"))\n",
        "if key in Port:\n",
        "  print(\"YES\")\n",
        "else:\n",
        "  print(\"NO\")\n",
        "Port\n",
        "Port1=Port.copy()\n",
        "Port1\n",
        "Country={\n",
        "    1:'Russia',\n",
        "    2:'China',\n",
        "    3:'India',\n",
        "    4:'USA'\n",
        "}\n",
        "Country.get(1)\n",
        "Port1.keys()\n",
        "Port1.values()\n",
        "Port1.items()\n",
        "list1=[1,2,3]\n",
        "list2=[\"a\",\"b\",\"c\"]\n",
        "dict1=dict([k for k in zip(list1,list2)])\n",
        "dict1"
      ]
    },
    {
      "cell_type": "markdown",
      "metadata": {
        "id": "ibBjgqaP808P"
      },
      "source": [
        "2. Write a menu driven program to show operation on Dictionary and List operation such as:\n",
        "Create\n",
        "Append\n",
        "Delete\n",
        "Modify and take input from user"
      ]
    },
    {
      "cell_type": "code",
      "execution_count": null,
      "metadata": {
        "colab": {
          "background_save": true,
          "base_uri": "https://localhost:8080/"
        },
        "id": "g2wtx8BY85d4",
        "outputId": "ff24e375-ba95-41df-8df9-b78e55925cf4"
      },
      "outputs": [
        {
          "name": "stdout",
          "output_type": "stream",
          "text": [
            "OPERATIONS ON DICTIONARY\n",
            "1.Create element\n",
            "2.Append Element\n",
            "3.Delete Element\n",
            "4.Update Element\n",
            "5.Exit\n",
            "\n",
            "\n",
            "{'1': 'Manas'}\n",
            "OPERATIONS ON DICTIONARY\n",
            "1.Create element\n",
            "2.Append Element\n",
            "3.Delete Element\n",
            "4.Update Element\n",
            "5.Exit\n",
            "\n",
            "\n",
            "{'1': 'Manas', '2': 'Kashmira'}\n",
            "OPERATIONS ON DICTIONARY\n",
            "1.Create element\n",
            "2.Append Element\n",
            "3.Delete Element\n",
            "4.Update Element\n",
            "5.Exit\n",
            "\n",
            "\n",
            "{'1': 'Manas', '2': 'Kashmira', '3': 'Madhuri'}\n",
            "OPERATIONS ON DICTIONARY\n",
            "1.Create element\n",
            "2.Append Element\n",
            "3.Delete Element\n",
            "4.Update Element\n",
            "5.Exit\n",
            "\n",
            "\n",
            "OPERATIONS ON DICTIONARY\n",
            "1.Create element\n",
            "2.Append Element\n",
            "3.Delete Element\n",
            "4.Update Element\n",
            "5.Exit\n",
            "\n",
            "\n",
            "OPERATIONS ON DICTIONARY\n",
            "1.Create element\n",
            "2.Append Element\n",
            "3.Delete Element\n",
            "4.Update Element\n",
            "5.Exit\n",
            "\n",
            "\n"
          ]
        }
      ],
      "source": [
        "d = {}\n",
        "while True:\n",
        "    print(\"OPERATIONS ON DICTIONARY\\n1.Create element\\n2.Append Element\\n3.Delete Element\\n4.Update Element\\n5.Exit\\n\\n\")\n",
        "    n=int(input(\"Enter choice :\"))\n",
        " \n",
        "    if n == 1:\n",
        "        a=input(\"Enter Key :\")\n",
        "        b=input(\"Enter value: \")\n",
        " \n",
        "        d[a]=b\n",
        "        print(d)\n",
        " \n",
        "    elif n==2:\n",
        "        a = input(\"Enter Key :\")\n",
        "        b = input(\"Enter value: \")\n",
        " \n",
        "        d[a] = b\n",
        "        print(d)\n",
        " \n",
        "    elif n==3:\n",
        "        a = input(\"Enter Key of Element you want to delete:\")\n",
        "        d.pop(a)\n",
        "        print(d)\n",
        "        \n",
        "    elif n==4:\n",
        "        a = input(\"Enter Key of Element you want to update:\")\n",
        "        b = input(\"Enter value:\")\n",
        "        d[a]=b \n",
        "        print(d)\n",
        "\n",
        "    elif n==5:\n",
        "      exit\n",
        "\n"
      ]
    },
    {
      "cell_type": "markdown",
      "metadata": {
        "id": "7Glb-jm-05Nc"
      },
      "source": [
        "## 3. Remove duplicates from a list."
      ]
    },
    {
      "cell_type": "code",
      "execution_count": null,
      "metadata": {
        "colab": {
          "base_uri": "https://localhost:8080/"
        },
        "id": "8wIkAN03xIgE",
        "outputId": "8f76e7ec-82ad-4e03-c82f-6a8d3aac848c"
      },
      "outputs": [
        {
          "name": "stdout",
          "output_type": "stream",
          "text": [
            "The original list is : [1, 3, 5, 6, 3, 5, 6, 1]\n",
            "The list after removing duplicates : [1, 3, 5, 6]\n"
          ]
        }
      ],
      "source": [
        "test_list = [1, 3, 5, 6, 3, 5, 6, 1]\n",
        "print (\"The original list is : \" +  str(test_list))\n",
        "res = []\n",
        "[res.append(x) for x in test_list if x not in res]\n",
        "# printing list after removal \n",
        "print (\"The list after removing duplicates : \" + str(res))"
      ]
    },
    {
      "cell_type": "markdown",
      "metadata": {
        "id": "es7WUEi31jA8"
      },
      "source": [
        "## 4. Display a list of even numbers between 1 to 100."
      ]
    },
    {
      "cell_type": "code",
      "execution_count": null,
      "metadata": {
        "colab": {
          "base_uri": "https://localhost:8080/"
        },
        "id": "yh6GjnJX0Mxo",
        "outputId": "5e483f49-57a1-48b3-a64a-eca245259102"
      },
      "outputs": [
        {
          "name": "stdout",
          "output_type": "stream",
          "text": [
            "List of even numbers is : [2, 4, 6, 8, 10, 12, 14, 16, 18, 20, 22, 24, 26, 28, 30, 32, 34, 36, 38, 40, 42, 44, 46, 48, 50, 52, 54, 56, 58, 60, 62, 64, 66, 68, 70, 72, 74, 76, 78, 80, 82, 84, 86, 88, 90, 92, 94, 96, 98, 100]\n"
          ]
        }
      ],
      "source": [
        "even_numbers_list=[i for i in range(1,101) if i%2==0]\n",
        "print(\"List of even numbers is : \"+str(even_numbers_list))"
      ]
    },
    {
      "cell_type": "markdown",
      "metadata": {
        "id": "V_H2GMzb170g"
      },
      "source": [
        "## 5. [1,4,6,7,9,0] Display the elements from the index as per the following.\n",
        "## a) First three elements\n",
        "## b) Elements omitting the first and last elements\n",
        "## c) Last element\n",
        "## d) Sort the list in the descending order."
      ]
    },
    {
      "cell_type": "code",
      "execution_count": null,
      "metadata": {
        "colab": {
          "base_uri": "https://localhost:8080/"
        },
        "id": "N0AUz-by10Lj",
        "outputId": "9f09f3dd-3f32-4143-ede6-783a648587e7"
      },
      "outputs": [
        {
          "data": {
            "text/plain": [
              "[9, 7, 6, 4, 1, 0]"
            ]
          },
          "execution_count": 120,
          "metadata": {},
          "output_type": "execute_result"
        }
      ],
      "source": [
        "list1=[1,4,6,7,9,0] \n",
        "list1[:3]\n",
        "list1[1:-1:]\n",
        "list1[-1]\n",
        "list1.sort(reverse=True)\n",
        "list1"
      ]
    },
    {
      "cell_type": "markdown",
      "metadata": {
        "id": "N90FSix13k17"
      },
      "source": [
        "6. Merge the given two dictionaries in one {&#39;a&#39;:1,&#39;c&#39;:3}, {&#39;b&#39;:2,&#39;e&#39;:5,&#39;d&#39;:4}."
      ]
    },
    {
      "cell_type": "code",
      "execution_count": null,
      "metadata": {
        "colab": {
          "base_uri": "https://localhost:8080/"
        },
        "id": "eGUfV7Bn23cW",
        "outputId": "aedd3565-3642-440e-945e-c285d6b58a70"
      },
      "outputs": [
        {
          "name": "stdout",
          "output_type": "stream",
          "text": [
            "Merged Dictionary : {'b': 2, 'e': 5, 'd': 4, 'a': 1, 'c': 3}\n"
          ]
        }
      ],
      "source": [
        "def Merge(dict1, dict2):\n",
        "    return(dict2.update(dict1))\n",
        "dict1={'a':1,'c':3}\n",
        "dict2={'b':2,'e':5,'d':4}\n",
        "Merge(dict1,dict2)\n",
        "print(\"Merged Dictionary : \"+str(dict2))"
      ]
    },
    {
      "cell_type": "markdown",
      "metadata": {
        "id": "YNuU8Cav41Ik"
      },
      "source": [
        "# 7. Sort a tuple which is having elements (4,5,2,7,1,9,3)."
      ]
    },
    {
      "cell_type": "code",
      "execution_count": null,
      "metadata": {
        "colab": {
          "base_uri": "https://localhost:8080/"
        },
        "id": "ndqYR_PR3w7O",
        "outputId": "7be9277e-f160-4aa0-b173-4dc017c5e342"
      },
      "outputs": [
        {
          "name": "stdout",
          "output_type": "stream",
          "text": [
            "[1, 2, 3, 4, 5, 7, 9]\n"
          ]
        }
      ],
      "source": [
        "unsorted_tuple=(4,5,2,7,1,9,3)\n",
        "unsorted_list=list(unsorted_tuple)\n",
        "sorted_list=unsorted_list.sort()\n",
        "print(unsorted_list)"
      ]
    },
    {
      "cell_type": "markdown",
      "metadata": {
        "id": "AlB4s_UO6UiV"
      },
      "source": [
        "8. Get the intersection of two lists. [1,2,3,4,5,6] and [3,4,5,6,7,8]."
      ]
    },
    {
      "cell_type": "code",
      "execution_count": null,
      "metadata": {
        "colab": {
          "base_uri": "https://localhost:8080/"
        },
        "id": "0aSQKsZr4637",
        "outputId": "d3fcc9b2-867e-4041-86cf-548f126a1131"
      },
      "outputs": [
        {
          "name": "stdout",
          "output_type": "stream",
          "text": [
            "Intersection of list1 & list2 is : {3, 4, 5, 6}\n"
          ]
        }
      ],
      "source": [
        "list1= {1,2,3,4,5,6} \n",
        "list2= {3,4,5,6,7,8}\n",
        "print(\"Intersection of list1 & list2 is : \"+str(list1.intersection(list2)))"
      ]
    },
    {
      "cell_type": "markdown",
      "metadata": {
        "id": "vLC10Cvb8eKj"
      },
      "source": [
        "9. Create Menu Driven Programme :( Use Dictionary, while, else, if)\n",
        "Print “1. Add student&quot;\n",
        "Print &quot;2. Remove student&quot;\n",
        "Print &quot;3. Print grades&quot;\n",
        "Print &quot;4. Record grade&quot;\n",
        "Print &quot;5. Print Menu&quot;\n",
        "Print &quot;6. Exit&quot;"
      ]
    },
    {
      "cell_type": "code",
      "execution_count": null,
      "metadata": {
        "colab": {
          "base_uri": "https://localhost:8080/",
          "height": 301
        },
        "id": "-i-FIJ9z8ppN",
        "outputId": "efa25dd3-cb61-4835-fd71-20a67038f659"
      },
      "outputs": [
        {
          "name": "stdout",
          "output_type": "stream",
          "text": [
            "Enter Your Choice : 2\n",
            "Remove Student\n",
            "Enter Your Choice : 3\n",
            "Print Grades\n",
            "Enter Your Choice : 0\n"
          ]
        },
        {
          "ename": "KeyError",
          "evalue": "ignored",
          "output_type": "error",
          "traceback": [
            "\u001b[0;31m---------------------------------------------------------------------------\u001b[0m",
            "\u001b[0;31mKeyError\u001b[0m                                  Traceback (most recent call last)",
            "\u001b[0;32m<ipython-input-141-c9a55e88ec22>\u001b[0m in \u001b[0;36m<module>\u001b[0;34m()\u001b[0m\n\u001b[1;32m     13\u001b[0m \u001b[0;32mwhile\u001b[0m \u001b[0mi\u001b[0m\u001b[0;34m!=\u001b[0m\u001b[0;36m6\u001b[0m\u001b[0;34m:\u001b[0m\u001b[0;34m\u001b[0m\u001b[0;34m\u001b[0m\u001b[0m\n\u001b[1;32m     14\u001b[0m     \u001b[0mi\u001b[0m \u001b[0;34m=\u001b[0m \u001b[0mint\u001b[0m\u001b[0;34m(\u001b[0m\u001b[0minput\u001b[0m\u001b[0;34m(\u001b[0m\u001b[0;34m\"Enter Your Choice : \"\u001b[0m\u001b[0;34m)\u001b[0m\u001b[0;34m)\u001b[0m\u001b[0;34m\u001b[0m\u001b[0;34m\u001b[0m\u001b[0m\n\u001b[0;32m---> 15\u001b[0;31m     \u001b[0mprint\u001b[0m\u001b[0;34m(\u001b[0m\u001b[0mmenu\u001b[0m\u001b[0;34m[\u001b[0m\u001b[0mi\u001b[0m\u001b[0;34m]\u001b[0m\u001b[0;34m)\u001b[0m\u001b[0;34m\u001b[0m\u001b[0;34m\u001b[0m\u001b[0m\n\u001b[0m",
            "\u001b[0;31mKeyError\u001b[0m: 0"
          ]
        }
      ],
      "source": [
        "#9\n",
        "i = 1\n",
        "menu = {\n",
        "        1:\"Add Student\",\n",
        "        2:\"Remove Student\",\n",
        "        3:\"Print Grades\",\n",
        "        4:\"Record Grade\",\n",
        "        5:\"Print Menu\",\n",
        "        6:\"Exit\"\n",
        "        \n",
        "        }\n",
        "\n",
        "while i!=6:\n",
        "    i = int(input(\"Enter Your Choice : \"))\n",
        "    print(menu[i])"
      ]
    },
    {
      "cell_type": "markdown",
      "metadata": {
        "id": "c4DQ7JAY61k5"
      },
      "source": [
        "10. Create and display a simple calculator which performs following operations:\n",
        "Addition, Subtraction, Multiplication and Division"
      ]
    },
    {
      "cell_type": "code",
      "execution_count": null,
      "metadata": {
        "colab": {
          "base_uri": "https://localhost:8080/"
        },
        "id": "2h5Kg6bg60t9",
        "outputId": "95f9fdef-5816-4744-c82b-4711ab445af1"
      },
      "outputs": [
        {
          "name": "stdout",
          "output_type": "stream",
          "text": [
            "Enter a4\n",
            "Enter b2\n",
            "Calculations\n",
            "Addition : 6\n",
            "Subtraction : 2\n",
            "Multiplication : 8\n",
            "Divison : 2.0\n"
          ]
        }
      ],
      "source": [
        "a=int(input(\"Enter a\"))\n",
        "b=int(input(\"Enter b\"))\n",
        "print(\"Calculations\")\n",
        "print(\"Addition : \"+str(a+b))\n",
        "print(\"Subtraction : \"+str(a-b))\n",
        "print(\"Multiplication : \"+str(a*b))\n",
        "print(\"Divison : \"+str(a/b))"
      ]
    },
    {
      "cell_type": "code",
      "execution_count": null,
      "metadata": {
        "id": "zK0YM9vy6iN2"
      },
      "outputs": [],
      "source": [
        ""
      ]
    }
  ],
  "metadata": {
    "colab": {
      "collapsed_sections": [],
      "name": "Data_Structure_ and_Control_Statements.ipynb",
      "provenance": [],
      "authorship_tag": "ABX9TyP6ROCKZYf6Ut1ZtieuN12P",
      "include_colab_link": true
    },
    "kernelspec": {
      "display_name": "Python 3",
      "name": "python3"
    },
    "language_info": {
      "name": "python"
    }
  },
  "nbformat": 4,
  "nbformat_minor": 0
}